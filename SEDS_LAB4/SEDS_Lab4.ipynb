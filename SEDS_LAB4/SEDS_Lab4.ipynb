{
 "cells": [
  {
   "cell_type": "markdown",
   "metadata": {},
   "source": [
    "<figure>\n",
    "  <IMG src=\"figures/logo-esi-sba.png\" WIDTH=300 height=\"100\" ALIGN=\"right\">\n",
    "</figure>\n",
    "\n",
    "# Practical Trainining Series on Software Engineering For Data Science  \n",
    "*By Dr. Belkacem KHALDI (b.khaldi@esi-sba.dz)*"
   ]
  },
  {
   "cell_type": "markdown",
   "metadata": {
    "slideshow": {
     "slide_type": "slide"
    }
   },
   "source": [
    "# Notebook 4: Advanced Concepts for Python Software Engineering: Unit Testing, Git, and Github\n",
    "\n",
    "The purpose of this [Jupyter Notebook] is to getting you familairized with advanced concepts for Python Software Engineering such as Unit Testing, Git, and Github. It provides a set of practical Training challenges that allow grasping the different concepts presented in the 3th lecture."
   ]
  },
  {
   "cell_type": "markdown",
   "metadata": {},
   "source": [
    "# Part 1: Unit Testing\n",
    "### Challenge 1\n",
    "1. Create a new conda env. with a python interpreter\n",
    "2. Activate your conva env\n",
    "3. Install pytest package in the new conda env.\n",
    "4. Create a Cookiecutter Data Science Project Structure \n",
    "`cookiecutter https://github.com/drivendata/cookiecutter-data-science`\n",
    "5. Create a /tests folder idem to src/ folder\n",
    "6. Create a python file `module.py` in src/model/\n",
    "7. Add the following function in `module.py`  \n",
    "\n",
    "```python\n",
    "def serve_beer(age):\n",
    "  if (age is None) or (age<18):\n",
    "    return \"No beer\"\n",
    "  else:\n",
    "    return \"Have beer\"\n",
    "```\n",
    "8. Now create a test module `test_module.py` in the corresponding `test/model/` folder.\n",
    "9. Put the following test functions inside `test_module.py`\n",
    "\n",
    "```python\n",
    "import pytest\n",
    "import src/model/module.py\n",
    "\n",
    "def test_serve_beer_legal():\n",
    "  adult = 25\n",
    "  assert serve_beer(adult) == \"Have beer\"\n",
    " \n",
    "def test_serve_beer_illegal():\n",
    "  child = 10\n",
    "  assert serve_beer(child) == \"No beer\"\n",
    "```\n",
    "10. Run the test module by taping the following commande:\n",
    "`pytest <test_file_name>`. Modify `<test_file_name>` by your appropriate  file name.\n",
    "11. Explain the test report results"
   ]
  },
  {
   "cell_type": "code",
   "execution_count": null,
   "metadata": {},
   "outputs": [],
   "source": [
    "#Your Solution here"
   ]
  },
  {
   "cell_type": "markdown",
   "metadata": {},
   "source": [
    "### Challenge 2\n",
    "\n",
    "We want to learn Unit Testing - with a data science spin. For that we have a housing price dataset:`hosing_price.csv` in the main jupyter folder. This dataset is not clean yet. It has few missing values and we want to do a  unit testing module to test if a row is valide or not. \n",
    "\n",
    "1. Put the dataset in the corresponding data/ cookiecutter data scinece project folder.\n",
    "\n",
    "2. Following the steps of challenge 1. Create a unit testing for the module \n",
    "`row_2_list.py` that contains the following function. This function just creates a list from a given string.\n",
    "```python\n",
    "def row_to_list(s):\n",
    "    return list(s.split())\n",
    "```\n",
    "\n",
    "Example:\n",
    "```python\n",
    "\"(2,081\\t314,942\\n\") == [\"2,081\",\"314,942\"]\n",
    "```\n",
    "`Hint:`\n",
    "\n",
    "Following the test functions done in `Lecture 4 - Slide:11`. Create a test module for the `row_2_list.py`. \n"
   ]
  },
  {
   "cell_type": "code",
   "execution_count": 1,
   "metadata": {},
   "outputs": [],
   "source": [
    "#Your Solution here"
   ]
  },
  {
   "cell_type": "markdown",
   "metadata": {},
   "source": [
    "# Part 2: Git \n",
    "\n",
    "A version-control system for tracking changes in your code.\n",
    "\n",
    "Three states that your files can be in: committed, modified, and staged.\n",
    "* Modified: file changed but not committed to database yet\n",
    "* Staged: current version of modified file marked to go into next commit snapshot\n",
    "* Committed: data stored in local database\n",
    "\n",
    "<figure>\n",
    "  <IMG src=\"figures/git1.png\" WIDTH=300 height=\"100\" ALIGN=\"right\">\n",
    "</figure>\n",
    "\n",
    "\n",
    "\n",
    "## Getting Started with Git\n",
    "### 1. Git Configuration\n",
    "    Inorder to getting started with Git, you have first to configure it locally.\n",
    "    Here are the main required git configurations commands:\n",
    "``` shell\n",
    "git config --global user.name \"<user_name>\"\n",
    "git config --global user.email \"<email@domain>\"\n",
    "```\n",
    "    \n",
    "### 2. Working Directory\n",
    "We need now to create a working directory locally called 'learn_git'.\n",
    "\n",
    "``` shell\n",
    "$ mkdir <folder_name>\n",
    "$ cd <folder_name>\n",
    "```\n",
    "\n",
    "### 3. Git Directory (Local Reposotory)\n",
    "Your Working created directory to be recognized as a Git Repo. you have to tape the following git commande:\n",
    "``` shell\n",
    "$ git init\n",
    "```\n",
    "\n",
    "### 4. Working with commits(Snapshots)\n",
    "Git thinks of its data as a set of snapshots (`commit`) of a miniature filesystem.\n",
    "Every time a project state is saved (commited), Git stores a reference to that snapshot.\n",
    "\n",
    "A snapshot is identified by SHA-1 hash ( a Long hexadicimal code). Alternativelly, Git assigns references (alias names, e.g.,`\"master\"`) for hashes for readability and fast memorization for developers.\n",
    "\n",
    "1. Create a file called `first.py`.\n",
    "2. Tape the `git status` commande to see the staus of the actual branche.\n",
    "   * What is the reference given to this branche?\n",
    "   * Is a commit (snapshot) created yet?\n",
    "   * What is the status of file `first.py`?\n",
    "3. Moving a file to a Staging Area\n",
    "   * Tape the `git add first.py` commande to move the file to the staging area.\n",
    "        *  Is a commit (snapshot) still created yet?\n",
    "        *  What is now the status of file `first.py`?\n",
    "4. Creating a commit (Snapshot)\n",
    "   *  Tape the `git commit -m \"first commit\"` commande to create a snapshot.\n",
    "       *  View the branch changing history by taping the commande: `git log`. \n",
    "       *  What is the SHA-1 hash code given to your commit?\n",
    "       \n",
    "    The actual situation of your branch can beschematized as follows:\n",
    "     ![1st Commit](figures/git-c1.png)\n",
    "\n",
    "5. Do again the steps 1 to 4 to create a new commit in the same branch for a new added file called `second.py`.\n",
    "   Onc you accomplish the steps, the actual situation of your branch can be now schematized as follows:\n",
    "   \n",
    "![2nd Commit](figures/git-c2.png)\n",
    "\n",
    "### 5. Exploring Commit History by viewing the differences\n",
    "1. Tape the `git diff HEAD~1` commande to explore commit history.\n",
    "\n",
    "### 6. Creating New Branches\n",
    "1. Tape the `git checkout -b \"dev\"` commande to create a new branch called `dev` from the current status of the `master` branch.\n",
    "2. Explore again th log history. Now the current situation is as follows:\n",
    "![New Dev Branch](figures/git-c2-dev.png)\n",
    "\n",
    "\n",
    "\n",
    "### 7. Recovering Older Commit Version \n",
    "1. Tape the `git reset HEAD~1` commande to restore the older version.\n",
    "2. Explore again th log history. Now the current situation is as follows:\n",
    "![Restore Dev Branch](figures/git-c1-dev.png)\n",
    "3. Alternatively, you may swich to a previous version by taping `git chckout HEAD~1`. This however will result in detaching the HEAD reference from your branch. \n",
    "\n",
    "\n",
    "\n",
    "### 8. Merging branches\n",
    "1. To merge the actual branche, `dev`, with the `master` branch just tape `git merge master` commande.\n",
    "2. Explore again th log history. The situation now will be as in step 6:\n",
    "![New Dev Branch](figures/git-c2-dev.png)\n",
    "\n",
    "\n",
    "## Challenge: \n",
    "1. Execute the required Git commands that allows you to reach the goal illustrated in the following figure:\n",
    "![Git Challenge 1](figures/git-cllge1.png)\n",
    "2. Now make the appropriet git commandes to reach thefirst goal (01) then goal (02) shown in the following Figure. \n",
    "![Git Challenge 1](figures/git-cllge2.png)\n",
    "\n"
   ]
  },
  {
   "cell_type": "code",
   "execution_count": 1,
   "metadata": {},
   "outputs": [],
   "source": [
    "#Your Solution"
   ]
  },
  {
   "cell_type": "markdown",
   "metadata": {
    "slideshow": {
     "slide_type": "slide"
    }
   },
   "source": [
    "# Part 3: GitHub \n",
    " \n",
    "GitHub ⇒ A web-based hosting service for software development projects that use the  Git revision control system.\n",
    "By following Slides 30-34 of Lecture 4:\n",
    "\n",
    "1. Create a SSH key for your remote account.\n",
    "2. Create a new GitHub repo.\n",
    "3. Push your local data  repo created in challenge 1 into your remote repo.\n",
    "4. Make a modification in your remote repo by modifying an exiting file or creating a new one.\n",
    "    * Pull the remote repo into your local repo to reflect the new changes."
   ]
  },
  {
   "cell_type": "code",
   "execution_count": null,
   "metadata": {},
   "outputs": [],
   "source": [
    "#Your Solution"
   ]
  }
 ],
 "metadata": {
  "anaconda-cloud": {},
  "kernelspec": {
   "display_name": "Python 3 (ipykernel)",
   "language": "python",
   "name": "python3"
  },
  "language_info": {
   "codemirror_mode": {
    "name": "ipython",
    "version": 3
   },
   "file_extension": ".py",
   "mimetype": "text/x-python",
   "name": "python",
   "nbconvert_exporter": "python",
   "pygments_lexer": "ipython3",
   "version": "3.9.12"
  }
 },
 "nbformat": 4,
 "nbformat_minor": 2
}
