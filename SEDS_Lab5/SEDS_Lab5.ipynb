{
 "cells": [
  {
   "cell_type": "markdown",
   "metadata": {},
   "source": [
    "<figure>\n",
    "  <IMG src=\"figures/logo-esi-sba.png\" WIDTH=300 height=\"100\" ALIGN=\"right\">\n",
    "</figure>\n",
    "\n",
    "# Practical Trainining Series on Software Engineering For Data Science  \n",
    "*By Dr. Belkacem KHALDI (b.khaldi@esi-sba.dz)*"
   ]
  },
  {
   "cell_type": "markdown",
   "metadata": {
    "slideshow": {
     "slide_type": "slide"
    }
   },
   "source": [
    "# Notebook 5: Data Processing & Cleaning for Data Science: Data Ingestion and Wrangling with Pandas\n",
    "\n",
    "The purpose of this [Jupyter Notebook] is to getting you introduced to the Data Processing & Cleaning for Data\n",
    "Science: Data Ingestion and Wrangling with Pandas. It provides a set of practical Training challenges that allow grasping the different concepts presented in the lecture 5."
   ]
  },
  {
   "cell_type": "markdown",
   "metadata": {},
   "source": [
    "## Challenge 1\n",
    "1. Connect to the `chinook.db` sqlite3 database available in the folder data.\n",
    "2. Find the genre names with the longest average song length.\n",
    "\n",
    "`Hint:`\n",
    "join the tables with the genre name and song length and use the SQLite aggregate\n",
    "function for the average along with a GROUP BY clause.\n"
   ]
  },
  {
   "cell_type": "code",
   "execution_count": 61,
   "metadata": {},
   "outputs": [
    {
     "name": "stdout",
     "output_type": "stream",
     "text": [
      "Sci Fi & Fantasy\n"
     ]
    }
   ],
   "source": [
    "#Your Solution here\n",
    "import pandas as pd\n",
    "import sqlite3\n",
    "connection = sqlite3.connect(r'data\\chinook.db') #r  raw string: means it treats special characters (such as the backslash, \\)\n",
    "cursor = connection.cursor()\n",
    "query = \"\"\"\n",
    "SELECT \n",
    "avg(t.Milliseconds) as avg,\n",
    "t.name as Track,\n",
    "t.Milliseconds,\n",
    "g.name as Genre\n",
    "FROM tracks t\n",
    "JOIN genres g ON t.genreid = g.genreid\n",
    "group by genre\n",
    "order by avg desc;\n",
    "\"\"\"\n",
    "sql_df = pd.read_sql_query(query, connection)\n",
    "#cursor.execute(query)\n",
    "#cursor.fetchall()\n",
    "print(sql_df['Genre'][0])"
   ]
  },
  {
   "cell_type": "code",
   "execution_count": 62,
   "metadata": {},
   "outputs": [
    {
     "data": {
      "text/html": [
       "<div>\n",
       "<style scoped>\n",
       "    .dataframe tbody tr th:only-of-type {\n",
       "        vertical-align: middle;\n",
       "    }\n",
       "\n",
       "    .dataframe tbody tr th {\n",
       "        vertical-align: top;\n",
       "    }\n",
       "\n",
       "    .dataframe thead th {\n",
       "        text-align: right;\n",
       "    }\n",
       "</style>\n",
       "<table border=\"1\" class=\"dataframe\">\n",
       "  <thead>\n",
       "    <tr style=\"text-align: right;\">\n",
       "      <th></th>\n",
       "      <th>avg</th>\n",
       "      <th>Track</th>\n",
       "      <th>Milliseconds</th>\n",
       "      <th>Genre</th>\n",
       "    </tr>\n",
       "  </thead>\n",
       "  <tbody>\n",
       "    <tr>\n",
       "      <th>0</th>\n",
       "      <td>2.911783e+06</td>\n",
       "      <td>Crossroads, Pt. 1</td>\n",
       "      <td>2622622</td>\n",
       "      <td>Sci Fi &amp; Fantasy</td>\n",
       "    </tr>\n",
       "    <tr>\n",
       "      <th>1</th>\n",
       "      <td>2.625549e+06</td>\n",
       "      <td>Battlestar Galactica: The Story So Far</td>\n",
       "      <td>2622250</td>\n",
       "      <td>Science Fiction</td>\n",
       "    </tr>\n",
       "    <tr>\n",
       "      <th>2</th>\n",
       "      <td>2.575284e+06</td>\n",
       "      <td>Don't Look Back</td>\n",
       "      <td>2571154</td>\n",
       "      <td>Drama</td>\n",
       "    </tr>\n",
       "    <tr>\n",
       "      <th>3</th>\n",
       "      <td>2.145041e+06</td>\n",
       "      <td>Occupation / Precipice</td>\n",
       "      <td>5286953</td>\n",
       "      <td>TV Shows</td>\n",
       "    </tr>\n",
       "    <tr>\n",
       "      <th>4</th>\n",
       "      <td>1.585264e+06</td>\n",
       "      <td>The Convict</td>\n",
       "      <td>1273064</td>\n",
       "      <td>Comedy</td>\n",
       "    </tr>\n",
       "    <tr>\n",
       "      <th>5</th>\n",
       "      <td>3.097494e+05</td>\n",
       "      <td>Enter Sandman</td>\n",
       "      <td>221701</td>\n",
       "      <td>Metal</td>\n",
       "    </tr>\n",
       "    <tr>\n",
       "      <th>6</th>\n",
       "      <td>3.029858e+05</td>\n",
       "      <td>Just Another Story</td>\n",
       "      <td>529684</td>\n",
       "      <td>Electronica/Dance</td>\n",
       "    </tr>\n",
       "    <tr>\n",
       "      <th>7</th>\n",
       "      <td>2.974529e+05</td>\n",
       "      <td>Wildest Dreams</td>\n",
       "      <td>232777</td>\n",
       "      <td>Heavy Metal</td>\n",
       "    </tr>\n",
       "    <tr>\n",
       "      <th>8</th>\n",
       "      <td>2.938676e+05</td>\n",
       "      <td>Symphony No. 3 in E-flat major, Op. 55, \"Eroic...</td>\n",
       "      <td>356426</td>\n",
       "      <td>Classical</td>\n",
       "    </tr>\n",
       "    <tr>\n",
       "      <th>9</th>\n",
       "      <td>2.917554e+05</td>\n",
       "      <td>Desafinado</td>\n",
       "      <td>185338</td>\n",
       "      <td>Jazz</td>\n",
       "    </tr>\n",
       "    <tr>\n",
       "      <th>10</th>\n",
       "      <td>2.839100e+05</td>\n",
       "      <td>For Those About To Rock (We Salute You)</td>\n",
       "      <td>343719</td>\n",
       "      <td>Rock</td>\n",
       "    </tr>\n",
       "    <tr>\n",
       "      <th>11</th>\n",
       "      <td>2.703598e+05</td>\n",
       "      <td>First Time I Met The Blues</td>\n",
       "      <td>140434</td>\n",
       "      <td>Blues</td>\n",
       "    </tr>\n",
       "    <tr>\n",
       "      <th>12</th>\n",
       "      <td>2.640585e+05</td>\n",
       "      <td>War Pigs</td>\n",
       "      <td>234013</td>\n",
       "      <td>Alternative</td>\n",
       "    </tr>\n",
       "    <tr>\n",
       "      <th>13</th>\n",
       "      <td>2.471778e+05</td>\n",
       "      <td>Girassol</td>\n",
       "      <td>249808</td>\n",
       "      <td>Reggae</td>\n",
       "    </tr>\n",
       "    <tr>\n",
       "      <th>14</th>\n",
       "      <td>2.443709e+05</td>\n",
       "      <td>Vai-Vai 2001</td>\n",
       "      <td>276349</td>\n",
       "      <td>Soundtrack</td>\n",
       "    </tr>\n",
       "    <tr>\n",
       "      <th>15</th>\n",
       "      <td>2.343538e+05</td>\n",
       "      <td>Your Time Has Come</td>\n",
       "      <td>255529</td>\n",
       "      <td>Alternative &amp; Punk</td>\n",
       "    </tr>\n",
       "    <tr>\n",
       "      <th>16</th>\n",
       "      <td>2.328593e+05</td>\n",
       "      <td>Jorge Da Capadócia</td>\n",
       "      <td>177397</td>\n",
       "      <td>Latin</td>\n",
       "    </tr>\n",
       "    <tr>\n",
       "      <th>17</th>\n",
       "      <td>2.290341e+05</td>\n",
       "      <td>Dig-Dig, Lambe-Lambe (Ao Vivo)</td>\n",
       "      <td>205479</td>\n",
       "      <td>Pop</td>\n",
       "    </tr>\n",
       "    <tr>\n",
       "      <th>18</th>\n",
       "      <td>2.249238e+05</td>\n",
       "      <td>Pura Elegancia</td>\n",
       "      <td>284107</td>\n",
       "      <td>World</td>\n",
       "    </tr>\n",
       "    <tr>\n",
       "      <th>19</th>\n",
       "      <td>2.200669e+05</td>\n",
       "      <td>Please Please Please</td>\n",
       "      <td>165067</td>\n",
       "      <td>R&amp;B/Soul</td>\n",
       "    </tr>\n",
       "    <tr>\n",
       "      <th>20</th>\n",
       "      <td>2.195900e+05</td>\n",
       "      <td>Samba Da Bênção</td>\n",
       "      <td>409965</td>\n",
       "      <td>Bossa Nova</td>\n",
       "    </tr>\n",
       "    <tr>\n",
       "      <th>21</th>\n",
       "      <td>1.891642e+05</td>\n",
       "      <td>My Way</td>\n",
       "      <td>275879</td>\n",
       "      <td>Easy Listening</td>\n",
       "    </tr>\n",
       "    <tr>\n",
       "      <th>22</th>\n",
       "      <td>1.781763e+05</td>\n",
       "      <td>ZeroVinteUm</td>\n",
       "      <td>315637</td>\n",
       "      <td>Hip Hop/Rap</td>\n",
       "    </tr>\n",
       "    <tr>\n",
       "      <th>23</th>\n",
       "      <td>1.748130e+05</td>\n",
       "      <td>Die Zauberflöte, K.620: \"Der Hölle Rache Kocht...</td>\n",
       "      <td>174813</td>\n",
       "      <td>Opera</td>\n",
       "    </tr>\n",
       "    <tr>\n",
       "      <th>24</th>\n",
       "      <td>1.346435e+05</td>\n",
       "      <td>Money</td>\n",
       "      <td>147591</td>\n",
       "      <td>Rock And Roll</td>\n",
       "    </tr>\n",
       "  </tbody>\n",
       "</table>\n",
       "</div>"
      ],
      "text/plain": [
       "             avg                                              Track  \\\n",
       "0   2.911783e+06                                  Crossroads, Pt. 1   \n",
       "1   2.625549e+06             Battlestar Galactica: The Story So Far   \n",
       "2   2.575284e+06                                    Don't Look Back   \n",
       "3   2.145041e+06                             Occupation / Precipice   \n",
       "4   1.585264e+06                                        The Convict   \n",
       "5   3.097494e+05                                      Enter Sandman   \n",
       "6   3.029858e+05                                 Just Another Story   \n",
       "7   2.974529e+05                                     Wildest Dreams   \n",
       "8   2.938676e+05  Symphony No. 3 in E-flat major, Op. 55, \"Eroic...   \n",
       "9   2.917554e+05                                         Desafinado   \n",
       "10  2.839100e+05            For Those About To Rock (We Salute You)   \n",
       "11  2.703598e+05                         First Time I Met The Blues   \n",
       "12  2.640585e+05                                           War Pigs   \n",
       "13  2.471778e+05                                           Girassol   \n",
       "14  2.443709e+05                                       Vai-Vai 2001   \n",
       "15  2.343538e+05                                 Your Time Has Come   \n",
       "16  2.328593e+05                                 Jorge Da Capadócia   \n",
       "17  2.290341e+05                     Dig-Dig, Lambe-Lambe (Ao Vivo)   \n",
       "18  2.249238e+05                                     Pura Elegancia   \n",
       "19  2.200669e+05                               Please Please Please   \n",
       "20  2.195900e+05                                    Samba Da Bênção   \n",
       "21  1.891642e+05                                             My Way   \n",
       "22  1.781763e+05                                        ZeroVinteUm   \n",
       "23  1.748130e+05  Die Zauberflöte, K.620: \"Der Hölle Rache Kocht...   \n",
       "24  1.346435e+05                                              Money   \n",
       "\n",
       "    Milliseconds               Genre  \n",
       "0        2622622    Sci Fi & Fantasy  \n",
       "1        2622250     Science Fiction  \n",
       "2        2571154               Drama  \n",
       "3        5286953            TV Shows  \n",
       "4        1273064              Comedy  \n",
       "5         221701               Metal  \n",
       "6         529684   Electronica/Dance  \n",
       "7         232777         Heavy Metal  \n",
       "8         356426           Classical  \n",
       "9         185338                Jazz  \n",
       "10        343719                Rock  \n",
       "11        140434               Blues  \n",
       "12        234013         Alternative  \n",
       "13        249808              Reggae  \n",
       "14        276349          Soundtrack  \n",
       "15        255529  Alternative & Punk  \n",
       "16        177397               Latin  \n",
       "17        205479                 Pop  \n",
       "18        284107               World  \n",
       "19        165067            R&B/Soul  \n",
       "20        409965          Bossa Nova  \n",
       "21        275879      Easy Listening  \n",
       "22        315637         Hip Hop/Rap  \n",
       "23        174813               Opera  \n",
       "24        147591       Rock And Roll  "
      ]
     },
     "execution_count": 62,
     "metadata": {},
     "output_type": "execute_result"
    }
   ],
   "source": [
    "sql_df"
   ]
  },
  {
   "cell_type": "markdown",
   "metadata": {},
   "source": [
    "## Challenge 2: Ingesting, Wrangling and Analyzing  iTune data\n",
    "\n",
    "You've started a new data science position at the iTune department at Apple Company. \n",
    "The department wants to build, test, and evaluate new machine learning recommendation song models using a different source of data: in Excel file, in a csv file, and in the chinook.db SQLite database. They want you proceed with the data ingsestion and data wrangling procedures to provide a clean dataset to be used later for their machine learning based recommendation songs models.  \n",
    "\n",
    "1. They particlarly asked you to load, clean, and analyze, and then deliver your results to the executive team and president.\n",
    "You should deliver a small summary of your EDA work from pandas and save your cleaned and prepared data as a new Excel file. The data files are `chinook_data.xlsx`, `chinook_data.csv`, and `chinook.db` on the data folder existed within this notebook.\n",
    "\n",
    "`Hint:`\n",
    "1. Follow the procedures in Lecture 5 - Slides: 13-17 - For data ingestion (Data loading from different sources).\n",
    "\n",
    "2. Follow and test the procedures in Lecture 5 - Slides:18-22 - For Basic Exploratory Data Analysis (EDA).\n",
    "\n",
    "3. Follow and test the procedures in Lecture 5 - Slides:23-27 - For Basic Data Cleaning Operations.\n",
    "\n",
    "4. To save your cleaned dataset in an excel file use the pandas built-in method: `pandas.DataFrame.to_excel`.\n"
   ]
  },
  {
   "cell_type": "code",
   "execution_count": 94,
   "metadata": {},
   "outputs": [],
   "source": [
    "#Your Solution here\n",
    "\n",
    "import sqlite3\n",
    "import matplotlib.pyplot as plt\n",
    "connection = sqlite3.connect('data\\chinook.db')\n",
    "cursor = connection.cursor()\n",
    "\n",
    "query = \"\"\"SELECT tracks.name as Track,\n",
    "tracks.composer,\n",
    "tracks.unitprice,\n",
    "genres.name as Genre,\n",
    "albums.title as Album,\n",
    "artists.name as Artist\n",
    "FROM tracks\n",
    "JOIN genres ON tracks.genreid = genres.genreid\n",
    "JOIN albums ON tracks.albumid = albums.albumid\n",
    "JOIN artists ON albums.artistid = artists.artistid;\n",
    "\"\"\""
   ]
  },
  {
   "cell_type": "code",
   "execution_count": 95,
   "metadata": {},
   "outputs": [],
   "source": [
    "import pandas as pd\n",
    "sql_df = pd.read_sql_query(query, connection)\n",
    "excel_df = pd.read_excel(\"data/chinook_data.xlsx\")\n",
    "csv_df = pd.read_csv(\"data/chinook_data.csv\",sep=',', decimal='.') "
   ]
  },
  {
   "cell_type": "markdown",
   "metadata": {},
   "source": [
    "- EDA CSV"
   ]
  },
  {
   "cell_type": "code",
   "execution_count": 96,
   "metadata": {},
   "outputs": [
    {
     "data": {
      "text/plain": [
       "Index(['Track', 'Composer', 'Milliseconds', 'Bytes', 'UnitPrice', 'Genre',\n",
       "       'Album', 'Artist'],\n",
       "      dtype='object')"
      ]
     },
     "execution_count": 96,
     "metadata": {},
     "output_type": "execute_result"
    }
   ],
   "source": [
    "csv_df.columns"
   ]
  },
  {
   "cell_type": "code",
   "execution_count": 97,
   "metadata": {},
   "outputs": [
    {
     "data": {
      "text/html": [
       "<div>\n",
       "<style scoped>\n",
       "    .dataframe tbody tr th:only-of-type {\n",
       "        vertical-align: middle;\n",
       "    }\n",
       "\n",
       "    .dataframe tbody tr th {\n",
       "        vertical-align: top;\n",
       "    }\n",
       "\n",
       "    .dataframe thead th {\n",
       "        text-align: right;\n",
       "    }\n",
       "</style>\n",
       "<table border=\"1\" class=\"dataframe\">\n",
       "  <thead>\n",
       "    <tr style=\"text-align: right;\">\n",
       "      <th></th>\n",
       "      <th>Track</th>\n",
       "      <th>Composer</th>\n",
       "      <th>Milliseconds</th>\n",
       "      <th>Bytes</th>\n",
       "      <th>UnitPrice</th>\n",
       "      <th>Genre</th>\n",
       "      <th>Album</th>\n",
       "      <th>Artist</th>\n",
       "    </tr>\n",
       "  </thead>\n",
       "  <tbody>\n",
       "    <tr>\n",
       "      <th>0</th>\n",
       "      <td>All the Best Cowboys Have Daddy Issues</td>\n",
       "      <td>NaN</td>\n",
       "      <td>2555492</td>\n",
       "      <td>211743651</td>\n",
       "      <td>1.99</td>\n",
       "      <td>TV Shows</td>\n",
       "      <td>Lost, Season 1</td>\n",
       "      <td>Lost</td>\n",
       "    </tr>\n",
       "    <tr>\n",
       "      <th>1</th>\n",
       "      <td>Beira Mar</td>\n",
       "      <td>Gilberto Gil</td>\n",
       "      <td>295444</td>\n",
       "      <td>9597994</td>\n",
       "      <td>0.99</td>\n",
       "      <td>Latin</td>\n",
       "      <td>Unplugged</td>\n",
       "      <td>Eric Clapton</td>\n",
       "    </tr>\n",
       "    <tr>\n",
       "      <th>2</th>\n",
       "      <td>Brasil</td>\n",
       "      <td>Milton Nascimento, Fernando Brant</td>\n",
       "      <td>155428</td>\n",
       "      <td>5252560</td>\n",
       "      <td>0.99</td>\n",
       "      <td>Latin</td>\n",
       "      <td>Milton Nascimento Ao Vivo</td>\n",
       "      <td>Milton Nascimento</td>\n",
       "    </tr>\n",
       "    <tr>\n",
       "      <th>3</th>\n",
       "      <td>Ben Franklin</td>\n",
       "      <td>NaN</td>\n",
       "      <td>1271938</td>\n",
       "      <td>264168080</td>\n",
       "      <td>1.99</td>\n",
       "      <td>Comedy</td>\n",
       "      <td>The Office, Season 3</td>\n",
       "      <td>The Office</td>\n",
       "    </tr>\n",
       "    <tr>\n",
       "      <th>4</th>\n",
       "      <td>O Último Romântico (Ao Vivo)</td>\n",
       "      <td>NaN</td>\n",
       "      <td>231993</td>\n",
       "      <td>7692697</td>\n",
       "      <td>0.99</td>\n",
       "      <td>Latin</td>\n",
       "      <td>Lulu Santos - RCA 100 Anos De Música - Álbum 02</td>\n",
       "      <td>Lulu Santos</td>\n",
       "    </tr>\n",
       "  </tbody>\n",
       "</table>\n",
       "</div>"
      ],
      "text/plain": [
       "                                    Track                           Composer  \\\n",
       "0  All the Best Cowboys Have Daddy Issues                                NaN   \n",
       "1                               Beira Mar                       Gilberto Gil   \n",
       "2                                  Brasil  Milton Nascimento, Fernando Brant   \n",
       "3                            Ben Franklin                                NaN   \n",
       "4            O Último Romântico (Ao Vivo)                                NaN   \n",
       "\n",
       "   Milliseconds      Bytes  UnitPrice     Genre  \\\n",
       "0       2555492  211743651       1.99  TV Shows   \n",
       "1        295444    9597994       0.99     Latin   \n",
       "2        155428    5252560       0.99     Latin   \n",
       "3       1271938  264168080       1.99    Comedy   \n",
       "4        231993    7692697       0.99     Latin   \n",
       "\n",
       "                                             Album             Artist  \n",
       "0                                   Lost, Season 1               Lost  \n",
       "1                                        Unplugged       Eric Clapton  \n",
       "2                        Milton Nascimento Ao Vivo  Milton Nascimento  \n",
       "3                             The Office, Season 3         The Office  \n",
       "4  Lulu Santos - RCA 100 Anos De Música - Álbum 02        Lulu Santos  "
      ]
     },
     "execution_count": 97,
     "metadata": {},
     "output_type": "execute_result"
    }
   ],
   "source": [
    "csv_df.head()"
   ]
  },
  {
   "cell_type": "code",
   "execution_count": 98,
   "metadata": {},
   "outputs": [
    {
     "data": {
      "text/html": [
       "<div>\n",
       "<style scoped>\n",
       "    .dataframe tbody tr th:only-of-type {\n",
       "        vertical-align: middle;\n",
       "    }\n",
       "\n",
       "    .dataframe tbody tr th {\n",
       "        vertical-align: top;\n",
       "    }\n",
       "\n",
       "    .dataframe thead th {\n",
       "        text-align: right;\n",
       "    }\n",
       "</style>\n",
       "<table border=\"1\" class=\"dataframe\">\n",
       "  <thead>\n",
       "    <tr style=\"text-align: right;\">\n",
       "      <th></th>\n",
       "      <th>Track</th>\n",
       "      <th>Composer</th>\n",
       "      <th>Milliseconds</th>\n",
       "      <th>Bytes</th>\n",
       "      <th>UnitPrice</th>\n",
       "      <th>Genre</th>\n",
       "      <th>Album</th>\n",
       "      <th>Artist</th>\n",
       "    </tr>\n",
       "  </thead>\n",
       "  <tbody>\n",
       "    <tr>\n",
       "      <th>298</th>\n",
       "      <td>She Loves Me Not</td>\n",
       "      <td>Bill Gould/Mike Bordin/Mike Patton</td>\n",
       "      <td>209867</td>\n",
       "      <td>6887544</td>\n",
       "      <td>0.99</td>\n",
       "      <td>Alternative &amp; Punk</td>\n",
       "      <td>Album Of The Year</td>\n",
       "      <td>Faith No More</td>\n",
       "    </tr>\n",
       "    <tr>\n",
       "      <th>299</th>\n",
       "      <td>Beth</td>\n",
       "      <td>Peter Criss, Stan Penridge, Bob Ezrin</td>\n",
       "      <td>170187</td>\n",
       "      <td>5577807</td>\n",
       "      <td>0.99</td>\n",
       "      <td>Rock</td>\n",
       "      <td>Unplugged [Live]</td>\n",
       "      <td>Kiss</td>\n",
       "    </tr>\n",
       "    <tr>\n",
       "      <th>300</th>\n",
       "      <td>Exploder</td>\n",
       "      <td>Audioslave/Chris Cornell</td>\n",
       "      <td>206053</td>\n",
       "      <td>4948095</td>\n",
       "      <td>0.99</td>\n",
       "      <td>Rock</td>\n",
       "      <td>Audioslave</td>\n",
       "      <td>Audioslave</td>\n",
       "    </tr>\n",
       "    <tr>\n",
       "      <th>301</th>\n",
       "      <td>Os Cegos Do Castelo</td>\n",
       "      <td>Titãs</td>\n",
       "      <td>296829</td>\n",
       "      <td>9868187</td>\n",
       "      <td>0.99</td>\n",
       "      <td>Alternative &amp; Punk</td>\n",
       "      <td>Acústico</td>\n",
       "      <td>Titãs</td>\n",
       "    </tr>\n",
       "    <tr>\n",
       "      <th>302</th>\n",
       "      <td>The Star Spangled Banner</td>\n",
       "      <td>Hendrix, Jimi</td>\n",
       "      <td>43232</td>\n",
       "      <td>1385810</td>\n",
       "      <td>0.99</td>\n",
       "      <td>Rock</td>\n",
       "      <td>Rattle And Hum</td>\n",
       "      <td>U2</td>\n",
       "    </tr>\n",
       "  </tbody>\n",
       "</table>\n",
       "</div>"
      ],
      "text/plain": [
       "                        Track                               Composer  \\\n",
       "298          She Loves Me Not     Bill Gould/Mike Bordin/Mike Patton   \n",
       "299                      Beth  Peter Criss, Stan Penridge, Bob Ezrin   \n",
       "300                  Exploder               Audioslave/Chris Cornell   \n",
       "301       Os Cegos Do Castelo                                  Titãs   \n",
       "302  The Star Spangled Banner                          Hendrix, Jimi   \n",
       "\n",
       "     Milliseconds    Bytes  UnitPrice               Genre              Album  \\\n",
       "298        209867  6887544       0.99  Alternative & Punk  Album Of The Year   \n",
       "299        170187  5577807       0.99                Rock   Unplugged [Live]   \n",
       "300        206053  4948095       0.99                Rock         Audioslave   \n",
       "301        296829  9868187       0.99  Alternative & Punk           Acústico   \n",
       "302         43232  1385810       0.99                Rock     Rattle And Hum   \n",
       "\n",
       "            Artist  \n",
       "298  Faith No More  \n",
       "299           Kiss  \n",
       "300     Audioslave  \n",
       "301          Titãs  \n",
       "302             U2  "
      ]
     },
     "execution_count": 98,
     "metadata": {},
     "output_type": "execute_result"
    }
   ],
   "source": [
    "csv_df.tail()"
   ]
  },
  {
   "cell_type": "code",
   "execution_count": 99,
   "metadata": {},
   "outputs": [
    {
     "data": {
      "text/plain": [
       "(303, 8)"
      ]
     },
     "execution_count": 99,
     "metadata": {},
     "output_type": "execute_result"
    }
   ],
   "source": [
    "csv_df.shape"
   ]
  },
  {
   "cell_type": "code",
   "execution_count": 100,
   "metadata": {},
   "outputs": [
    {
     "name": "stdout",
     "output_type": "stream",
     "text": [
      "<class 'pandas.core.frame.DataFrame'>\n",
      "RangeIndex: 303 entries, 0 to 302\n",
      "Data columns (total 8 columns):\n",
      " #   Column        Non-Null Count  Dtype  \n",
      "---  ------        --------------  -----  \n",
      " 0   Track         303 non-null    object \n",
      " 1   Composer      227 non-null    object \n",
      " 2   Milliseconds  303 non-null    int64  \n",
      " 3   Bytes         303 non-null    int64  \n",
      " 4   UnitPrice     303 non-null    float64\n",
      " 5   Genre         303 non-null    object \n",
      " 6   Album         303 non-null    object \n",
      " 7   Artist        303 non-null    object \n",
      "dtypes: float64(1), int64(2), object(5)\n",
      "memory usage: 19.1+ KB\n"
     ]
    }
   ],
   "source": [
    "csv_df.info()"
   ]
  },
  {
   "cell_type": "code",
   "execution_count": 101,
   "metadata": {},
   "outputs": [
    {
     "data": {
      "text/plain": [
       "Track            0\n",
       "Composer        76\n",
       "Milliseconds     0\n",
       "Bytes            0\n",
       "UnitPrice        0\n",
       "Genre            0\n",
       "Album            0\n",
       "Artist           0\n",
       "dtype: int64"
      ]
     },
     "execution_count": 101,
     "metadata": {},
     "output_type": "execute_result"
    }
   ],
   "source": [
    "csv_df.isna().sum()"
   ]
  },
  {
   "cell_type": "code",
   "execution_count": 102,
   "metadata": {},
   "outputs": [
    {
     "data": {
      "text/html": [
       "<div>\n",
       "<style scoped>\n",
       "    .dataframe tbody tr th:only-of-type {\n",
       "        vertical-align: middle;\n",
       "    }\n",
       "\n",
       "    .dataframe tbody tr th {\n",
       "        vertical-align: top;\n",
       "    }\n",
       "\n",
       "    .dataframe thead th {\n",
       "        text-align: right;\n",
       "    }\n",
       "</style>\n",
       "<table border=\"1\" class=\"dataframe\">\n",
       "  <thead>\n",
       "    <tr style=\"text-align: right;\">\n",
       "      <th></th>\n",
       "      <th>Milliseconds</th>\n",
       "      <th>Bytes</th>\n",
       "      <th>UnitPrice</th>\n",
       "    </tr>\n",
       "  </thead>\n",
       "  <tbody>\n",
       "    <tr>\n",
       "      <th>count</th>\n",
       "      <td>3.030000e+02</td>\n",
       "      <td>3.030000e+02</td>\n",
       "      <td>303.000000</td>\n",
       "    </tr>\n",
       "    <tr>\n",
       "      <th>mean</th>\n",
       "      <td>3.527488e+05</td>\n",
       "      <td>2.323252e+07</td>\n",
       "      <td>1.032904</td>\n",
       "    </tr>\n",
       "    <tr>\n",
       "      <th>std</th>\n",
       "      <td>4.422612e+05</td>\n",
       "      <td>7.494537e+07</td>\n",
       "      <td>0.202977</td>\n",
       "    </tr>\n",
       "    <tr>\n",
       "      <th>min</th>\n",
       "      <td>6.373000e+03</td>\n",
       "      <td>2.119970e+05</td>\n",
       "      <td>0.990000</td>\n",
       "    </tr>\n",
       "    <tr>\n",
       "      <th>25%</th>\n",
       "      <td>2.037680e+05</td>\n",
       "      <td>6.417540e+06</td>\n",
       "      <td>0.990000</td>\n",
       "    </tr>\n",
       "    <tr>\n",
       "      <th>50%</th>\n",
       "      <td>2.524210e+05</td>\n",
       "      <td>7.971384e+06</td>\n",
       "      <td>0.990000</td>\n",
       "    </tr>\n",
       "    <tr>\n",
       "      <th>75%</th>\n",
       "      <td>3.229640e+05</td>\n",
       "      <td>1.002353e+07</td>\n",
       "      <td>0.990000</td>\n",
       "    </tr>\n",
       "    <tr>\n",
       "      <th>max</th>\n",
       "      <td>2.935894e+06</td>\n",
       "      <td>5.517600e+08</td>\n",
       "      <td>1.990000</td>\n",
       "    </tr>\n",
       "  </tbody>\n",
       "</table>\n",
       "</div>"
      ],
      "text/plain": [
       "       Milliseconds         Bytes   UnitPrice\n",
       "count  3.030000e+02  3.030000e+02  303.000000\n",
       "mean   3.527488e+05  2.323252e+07    1.032904\n",
       "std    4.422612e+05  7.494537e+07    0.202977\n",
       "min    6.373000e+03  2.119970e+05    0.990000\n",
       "25%    2.037680e+05  6.417540e+06    0.990000\n",
       "50%    2.524210e+05  7.971384e+06    0.990000\n",
       "75%    3.229640e+05  1.002353e+07    0.990000\n",
       "max    2.935894e+06  5.517600e+08    1.990000"
      ]
     },
     "execution_count": 102,
     "metadata": {},
     "output_type": "execute_result"
    }
   ],
   "source": [
    "csv_df.describe()"
   ]
  },
  {
   "cell_type": "code",
   "execution_count": 103,
   "metadata": {},
   "outputs": [
    {
     "data": {
      "text/plain": [
       "Rock                  114\n",
       "Latin                  51\n",
       "Alternative & Punk     40\n",
       "Metal                  28\n",
       "Jazz                   21\n",
       "TV Shows                6\n",
       "R&B/Soul                5\n",
       "Classical               5\n",
       "Hip Hop/Rap             4\n",
       "Blues                   3\n",
       "Soundtrack              3\n",
       "Pop                     3\n",
       "Reggae                  3\n",
       "Comedy                  3\n",
       "Alternative             2\n",
       "World                   2\n",
       "Bossa Nova              2\n",
       "Drama                   2\n",
       "Sci Fi & Fantasy        2\n",
       "Heavy Metal             2\n",
       "Easy Listening          1\n",
       "Electronica/Dance       1\n",
       "Name: Genre, dtype: int64"
      ]
     },
     "execution_count": 103,
     "metadata": {},
     "output_type": "execute_result"
    }
   ],
   "source": [
    "csv_df['Genre'].value_counts()"
   ]
  },
  {
   "cell_type": "code",
   "execution_count": 104,
   "metadata": {},
   "outputs": [
    {
     "data": {
      "text/html": [
       "<div>\n",
       "<style scoped>\n",
       "    .dataframe tbody tr th:only-of-type {\n",
       "        vertical-align: middle;\n",
       "    }\n",
       "\n",
       "    .dataframe tbody tr th {\n",
       "        vertical-align: top;\n",
       "    }\n",
       "\n",
       "    .dataframe thead th {\n",
       "        text-align: right;\n",
       "    }\n",
       "</style>\n",
       "<table border=\"1\" class=\"dataframe\">\n",
       "  <thead>\n",
       "    <tr style=\"text-align: right;\">\n",
       "      <th></th>\n",
       "      <th>Milliseconds</th>\n",
       "      <th>Bytes</th>\n",
       "      <th>UnitPrice</th>\n",
       "    </tr>\n",
       "  </thead>\n",
       "  <tbody>\n",
       "    <tr>\n",
       "      <th>Milliseconds</th>\n",
       "      <td>1.000000</td>\n",
       "      <td>0.922748</td>\n",
       "      <td>0.933627</td>\n",
       "    </tr>\n",
       "    <tr>\n",
       "      <th>Bytes</th>\n",
       "      <td>0.922748</td>\n",
       "      <td>1.000000</td>\n",
       "      <td>0.934024</td>\n",
       "    </tr>\n",
       "    <tr>\n",
       "      <th>UnitPrice</th>\n",
       "      <td>0.933627</td>\n",
       "      <td>0.934024</td>\n",
       "      <td>1.000000</td>\n",
       "    </tr>\n",
       "  </tbody>\n",
       "</table>\n",
       "</div>"
      ],
      "text/plain": [
       "              Milliseconds     Bytes  UnitPrice\n",
       "Milliseconds      1.000000  0.922748   0.933627\n",
       "Bytes             0.922748  1.000000   0.934024\n",
       "UnitPrice         0.933627  0.934024   1.000000"
      ]
     },
     "execution_count": 104,
     "metadata": {},
     "output_type": "execute_result"
    }
   ],
   "source": [
    "csv_df.corr()"
   ]
  },
  {
   "cell_type": "code",
   "execution_count": 105,
   "metadata": {},
   "outputs": [
    {
     "data": {
      "image/png": "[encoded data removed]",
      "text/plain": [
       "<Figure size 640x480 with 1 Axes>"
      ]
     },
     "metadata": {},
     "output_type": "display_data"
    }
   ],
   "source": [
    "csv_df['Milliseconds'].hist()\n",
    "plt.show()"
   ]
  },
  {
   "cell_type": "code",
   "execution_count": 106,
   "metadata": {},
   "outputs": [
    {
     "data": {
      "image/png": "[encoded data removed]",
      "text/plain": [
       "<Figure size 640x480 with 1 Axes>"
      ]
     },
     "metadata": {},
     "output_type": "display_data"
    }
   ],
   "source": [
    "csv_df.plot.scatter(x='Milliseconds', \n",
    "y='Bytes')\n",
    "plt.show()"
   ]
  },
  {
   "cell_type": "code",
   "execution_count": 107,
   "metadata": {},
   "outputs": [
    {
     "data": {
      "image/png": "[encoded data removed]",
      "text/plain": [
       "<Figure size 640x480 with 1 Axes>"
      ]
     },
     "metadata": {},
     "output_type": "display_data"
    }
   ],
   "source": [
    "csv_df['Genre'].value_counts().plot.bar()\n",
    "plt.show()"
   ]
  },
  {
   "cell_type": "markdown",
   "metadata": {},
   "source": [
    "- EDA excel"
   ]
  },
  {
   "cell_type": "code",
   "execution_count": 108,
   "metadata": {},
   "outputs": [
    {
     "data": {
      "text/plain": [
       "(215, 8)"
      ]
     },
     "execution_count": 108,
     "metadata": {},
     "output_type": "execute_result"
    }
   ],
   "source": [
    "excel_df.shape"
   ]
  },
  {
   "cell_type": "code",
   "execution_count": 109,
   "metadata": {},
   "outputs": [
    {
     "data": {
      "text/html": [
       "<div>\n",
       "<style scoped>\n",
       "    .dataframe tbody tr th:only-of-type {\n",
       "        vertical-align: middle;\n",
       "    }\n",
       "\n",
       "    .dataframe tbody tr th {\n",
       "        vertical-align: top;\n",
       "    }\n",
       "\n",
       "    .dataframe thead th {\n",
       "        text-align: right;\n",
       "    }\n",
       "</style>\n",
       "<table border=\"1\" class=\"dataframe\">\n",
       "  <thead>\n",
       "    <tr style=\"text-align: right;\">\n",
       "      <th></th>\n",
       "      <th>Track</th>\n",
       "      <th>Composer</th>\n",
       "      <th>Milliseconds</th>\n",
       "      <th>Bytes</th>\n",
       "      <th>UnitPrice</th>\n",
       "      <th>Genre</th>\n",
       "      <th>Album</th>\n",
       "      <th>Artist</th>\n",
       "    </tr>\n",
       "  </thead>\n",
       "  <tbody>\n",
       "    <tr>\n",
       "      <th>0</th>\n",
       "      <td>My Time After Awhile</td>\n",
       "      <td>Robert Geddins/Ron Badger/Sheldon Feinberg</td>\n",
       "      <td>182491</td>\n",
       "      <td>6022698</td>\n",
       "      <td>0.99</td>\n",
       "      <td>Blues</td>\n",
       "      <td>The Best Of Buddy Guy - The Millenium Collection</td>\n",
       "      <td>Buddy Guy</td>\n",
       "    </tr>\n",
       "    <tr>\n",
       "      <th>1</th>\n",
       "      <td>Be Quick Or Be Dead</td>\n",
       "      <td>Bruce Dickinson/Janick Gers</td>\n",
       "      <td>204512</td>\n",
       "      <td>8181888</td>\n",
       "      <td>0.99</td>\n",
       "      <td>Rock</td>\n",
       "      <td>Fear Of The Dark</td>\n",
       "      <td>Iron Maiden</td>\n",
       "    </tr>\n",
       "    <tr>\n",
       "      <th>2</th>\n",
       "      <td>Água E Fogo</td>\n",
       "      <td>Chico Amaral/Edgard Scandurra/Samuel Rosa</td>\n",
       "      <td>278987</td>\n",
       "      <td>9272272</td>\n",
       "      <td>0.99</td>\n",
       "      <td>Rock</td>\n",
       "      <td>Maquinarama</td>\n",
       "      <td>Skank</td>\n",
       "    </tr>\n",
       "    <tr>\n",
       "      <th>3</th>\n",
       "      <td>Ozone Baby</td>\n",
       "      <td>Jimmy Page, Robert Plant</td>\n",
       "      <td>215954</td>\n",
       "      <td>7079588</td>\n",
       "      <td>0.99</td>\n",
       "      <td>Rock</td>\n",
       "      <td>Coda</td>\n",
       "      <td>Led Zeppelin</td>\n",
       "    </tr>\n",
       "    <tr>\n",
       "      <th>4</th>\n",
       "      <td>Bop Boogie</td>\n",
       "      <td>NaN</td>\n",
       "      <td>189596</td>\n",
       "      <td>6093124</td>\n",
       "      <td>0.99</td>\n",
       "      <td>Jazz</td>\n",
       "      <td>Up An' Atom</td>\n",
       "      <td>Gene Krupa</td>\n",
       "    </tr>\n",
       "  </tbody>\n",
       "</table>\n",
       "</div>"
      ],
      "text/plain": [
       "                  Track                                    Composer  \\\n",
       "0  My Time After Awhile  Robert Geddins/Ron Badger/Sheldon Feinberg   \n",
       "1   Be Quick Or Be Dead                 Bruce Dickinson/Janick Gers   \n",
       "2           Água E Fogo   Chico Amaral/Edgard Scandurra/Samuel Rosa   \n",
       "3            Ozone Baby                    Jimmy Page, Robert Plant   \n",
       "4            Bop Boogie                                         NaN   \n",
       "\n",
       "   Milliseconds    Bytes  UnitPrice  Genre  \\\n",
       "0        182491  6022698       0.99  Blues   \n",
       "1        204512  8181888       0.99   Rock   \n",
       "2        278987  9272272       0.99   Rock   \n",
       "3        215954  7079588       0.99   Rock   \n",
       "4        189596  6093124       0.99   Jazz   \n",
       "\n",
       "                                              Album        Artist  \n",
       "0  The Best Of Buddy Guy - The Millenium Collection     Buddy Guy  \n",
       "1                                  Fear Of The Dark   Iron Maiden  \n",
       "2                                       Maquinarama         Skank  \n",
       "3                                              Coda  Led Zeppelin  \n",
       "4                                       Up An' Atom    Gene Krupa  "
      ]
     },
     "execution_count": 109,
     "metadata": {},
     "output_type": "execute_result"
    }
   ],
   "source": [
    "excel_df.head()"
   ]
  },
  {
   "cell_type": "code",
   "execution_count": 110,
   "metadata": {},
   "outputs": [
    {
     "data": {
      "text/plain": [
       "Track            0\n",
       "Composer        59\n",
       "Milliseconds     0\n",
       "Bytes            0\n",
       "UnitPrice        0\n",
       "Genre            0\n",
       "Album            0\n",
       "Artist           0\n",
       "dtype: int64"
      ]
     },
     "execution_count": 110,
     "metadata": {},
     "output_type": "execute_result"
    }
   ],
   "source": [
    "excel_df.isna().sum()"
   ]
  },
  {
   "cell_type": "code",
   "execution_count": 111,
   "metadata": {},
   "outputs": [
    {
     "data": {
      "text/plain": [
       "Index(['Track', 'Composer', 'Milliseconds', 'Bytes', 'UnitPrice', 'Genre',\n",
       "       'Album', 'Artist'],\n",
       "      dtype='object')"
      ]
     },
     "execution_count": 111,
     "metadata": {},
     "output_type": "execute_result"
    }
   ],
   "source": [
    "excel_df.columns"
   ]
  },
  {
   "cell_type": "code",
   "execution_count": 112,
   "metadata": {},
   "outputs": [
    {
     "data": {
      "text/plain": [
       "Rock                  87\n",
       "Latin                 26\n",
       "Alternative & Punk    21\n",
       "Metal                 18\n",
       "Jazz                   9\n",
       "Blues                  8\n",
       "TV Shows               6\n",
       "Classical              6\n",
       "Drama                  5\n",
       "Soundtrack             4\n",
       "Electronica/Dance      4\n",
       "Sci Fi & Fantasy       3\n",
       "Alternative            3\n",
       "R&B/Soul               3\n",
       "Easy Listening         3\n",
       "Reggae                 3\n",
       "World                  2\n",
       "Science Fiction        2\n",
       "Hip Hop/Rap            1\n",
       "Heavy Metal            1\n",
       "Name: Genre, dtype: int64"
      ]
     },
     "execution_count": 112,
     "metadata": {},
     "output_type": "execute_result"
    }
   ],
   "source": [
    "excel_df['Genre'].value_counts()"
   ]
  },
  {
   "cell_type": "code",
   "execution_count": 113,
   "metadata": {},
   "outputs": [
    {
     "name": "stdout",
     "output_type": "stream",
     "text": [
      "<class 'pandas.core.frame.DataFrame'>\n",
      "RangeIndex: 215 entries, 0 to 214\n",
      "Data columns (total 8 columns):\n",
      " #   Column        Non-Null Count  Dtype  \n",
      "---  ------        --------------  -----  \n",
      " 0   Track         215 non-null    object \n",
      " 1   Composer      156 non-null    object \n",
      " 2   Milliseconds  215 non-null    int64  \n",
      " 3   Bytes         215 non-null    int64  \n",
      " 4   UnitPrice     215 non-null    float64\n",
      " 5   Genre         215 non-null    object \n",
      " 6   Album         215 non-null    object \n",
      " 7   Artist        215 non-null    object \n",
      "dtypes: float64(1), int64(2), object(5)\n",
      "memory usage: 13.6+ KB\n"
     ]
    }
   ],
   "source": [
    "excel_df.info()"
   ]
  },
  {
   "cell_type": "code",
   "execution_count": 114,
   "metadata": {},
   "outputs": [
    {
     "data": {
      "image/png": "[encoded data removed]",
      "text/plain": [
       "<Figure size 640x480 with 1 Axes>"
      ]
     },
     "metadata": {},
     "output_type": "display_data"
    }
   ],
   "source": [
    "excel_df['Genre'].value_counts().plot.bar()\n",
    "plt.show()"
   ]
  },
  {
   "cell_type": "markdown",
   "metadata": {},
   "source": [
    "- EDA DATABASE"
   ]
  },
  {
   "cell_type": "code",
   "execution_count": 115,
   "metadata": {},
   "outputs": [
    {
     "data": {
      "text/html": [
       "<div>\n",
       "<style scoped>\n",
       "    .dataframe tbody tr th:only-of-type {\n",
       "        vertical-align: middle;\n",
       "    }\n",
       "\n",
       "    .dataframe tbody tr th {\n",
       "        vertical-align: top;\n",
       "    }\n",
       "\n",
       "    .dataframe thead th {\n",
       "        text-align: right;\n",
       "    }\n",
       "</style>\n",
       "<table border=\"1\" class=\"dataframe\">\n",
       "  <thead>\n",
       "    <tr style=\"text-align: right;\">\n",
       "      <th></th>\n",
       "      <th>Track</th>\n",
       "      <th>Composer</th>\n",
       "      <th>UnitPrice</th>\n",
       "      <th>Genre</th>\n",
       "      <th>Album</th>\n",
       "      <th>Artist</th>\n",
       "    </tr>\n",
       "  </thead>\n",
       "  <tbody>\n",
       "    <tr>\n",
       "      <th>0</th>\n",
       "      <td>For Those About To Rock (We Salute You)</td>\n",
       "      <td>Angus Young, Malcolm Young, Brian Johnson</td>\n",
       "      <td>0.99</td>\n",
       "      <td>Rock</td>\n",
       "      <td>For Those About To Rock We Salute You</td>\n",
       "      <td>AC/DC</td>\n",
       "    </tr>\n",
       "    <tr>\n",
       "      <th>1</th>\n",
       "      <td>Put The Finger On You</td>\n",
       "      <td>Angus Young, Malcolm Young, Brian Johnson</td>\n",
       "      <td>0.99</td>\n",
       "      <td>Rock</td>\n",
       "      <td>For Those About To Rock We Salute You</td>\n",
       "      <td>AC/DC</td>\n",
       "    </tr>\n",
       "    <tr>\n",
       "      <th>2</th>\n",
       "      <td>Let's Get It Up</td>\n",
       "      <td>Angus Young, Malcolm Young, Brian Johnson</td>\n",
       "      <td>0.99</td>\n",
       "      <td>Rock</td>\n",
       "      <td>For Those About To Rock We Salute You</td>\n",
       "      <td>AC/DC</td>\n",
       "    </tr>\n",
       "    <tr>\n",
       "      <th>3</th>\n",
       "      <td>Inject The Venom</td>\n",
       "      <td>Angus Young, Malcolm Young, Brian Johnson</td>\n",
       "      <td>0.99</td>\n",
       "      <td>Rock</td>\n",
       "      <td>For Those About To Rock We Salute You</td>\n",
       "      <td>AC/DC</td>\n",
       "    </tr>\n",
       "    <tr>\n",
       "      <th>4</th>\n",
       "      <td>Snowballed</td>\n",
       "      <td>Angus Young, Malcolm Young, Brian Johnson</td>\n",
       "      <td>0.99</td>\n",
       "      <td>Rock</td>\n",
       "      <td>For Those About To Rock We Salute You</td>\n",
       "      <td>AC/DC</td>\n",
       "    </tr>\n",
       "  </tbody>\n",
       "</table>\n",
       "</div>"
      ],
      "text/plain": [
       "                                     Track  \\\n",
       "0  For Those About To Rock (We Salute You)   \n",
       "1                    Put The Finger On You   \n",
       "2                          Let's Get It Up   \n",
       "3                         Inject The Venom   \n",
       "4                               Snowballed   \n",
       "\n",
       "                                    Composer  UnitPrice Genre  \\\n",
       "0  Angus Young, Malcolm Young, Brian Johnson       0.99  Rock   \n",
       "1  Angus Young, Malcolm Young, Brian Johnson       0.99  Rock   \n",
       "2  Angus Young, Malcolm Young, Brian Johnson       0.99  Rock   \n",
       "3  Angus Young, Malcolm Young, Brian Johnson       0.99  Rock   \n",
       "4  Angus Young, Malcolm Young, Brian Johnson       0.99  Rock   \n",
       "\n",
       "                                   Album Artist  \n",
       "0  For Those About To Rock We Salute You  AC/DC  \n",
       "1  For Those About To Rock We Salute You  AC/DC  \n",
       "2  For Those About To Rock We Salute You  AC/DC  \n",
       "3  For Those About To Rock We Salute You  AC/DC  \n",
       "4  For Those About To Rock We Salute You  AC/DC  "
      ]
     },
     "execution_count": 115,
     "metadata": {},
     "output_type": "execute_result"
    }
   ],
   "source": [
    "sql_df.head()"
   ]
  },
  {
   "cell_type": "code",
   "execution_count": 116,
   "metadata": {},
   "outputs": [
    {
     "data": {
      "text/plain": [
       "(3503, 6)"
      ]
     },
     "execution_count": 116,
     "metadata": {},
     "output_type": "execute_result"
    }
   ],
   "source": [
    "sql_df.shape"
   ]
  },
  {
   "cell_type": "code",
   "execution_count": 117,
   "metadata": {},
   "outputs": [
    {
     "data": {
      "text/plain": [
       "Track          0\n",
       "Composer     978\n",
       "UnitPrice      0\n",
       "Genre          0\n",
       "Album          0\n",
       "Artist         0\n",
       "dtype: int64"
      ]
     },
     "execution_count": 117,
     "metadata": {},
     "output_type": "execute_result"
    }
   ],
   "source": [
    "sql_df.isna().sum()"
   ]
  },
  {
   "cell_type": "code",
   "execution_count": 118,
   "metadata": {},
   "outputs": [
    {
     "data": {
      "text/html": [
       "<div>\n",
       "<style scoped>\n",
       "    .dataframe tbody tr th:only-of-type {\n",
       "        vertical-align: middle;\n",
       "    }\n",
       "\n",
       "    .dataframe tbody tr th {\n",
       "        vertical-align: top;\n",
       "    }\n",
       "\n",
       "    .dataframe thead th {\n",
       "        text-align: right;\n",
       "    }\n",
       "</style>\n",
       "<table border=\"1\" class=\"dataframe\">\n",
       "  <thead>\n",
       "    <tr style=\"text-align: right;\">\n",
       "      <th></th>\n",
       "      <th>UnitPrice</th>\n",
       "    </tr>\n",
       "  </thead>\n",
       "  <tbody>\n",
       "    <tr>\n",
       "      <th>count</th>\n",
       "      <td>3503.000000</td>\n",
       "    </tr>\n",
       "    <tr>\n",
       "      <th>mean</th>\n",
       "      <td>1.050805</td>\n",
       "    </tr>\n",
       "    <tr>\n",
       "      <th>std</th>\n",
       "      <td>0.239006</td>\n",
       "    </tr>\n",
       "    <tr>\n",
       "      <th>min</th>\n",
       "      <td>0.990000</td>\n",
       "    </tr>\n",
       "    <tr>\n",
       "      <th>25%</th>\n",
       "      <td>0.990000</td>\n",
       "    </tr>\n",
       "    <tr>\n",
       "      <th>50%</th>\n",
       "      <td>0.990000</td>\n",
       "    </tr>\n",
       "    <tr>\n",
       "      <th>75%</th>\n",
       "      <td>0.990000</td>\n",
       "    </tr>\n",
       "    <tr>\n",
       "      <th>max</th>\n",
       "      <td>1.990000</td>\n",
       "    </tr>\n",
       "  </tbody>\n",
       "</table>\n",
       "</div>"
      ],
      "text/plain": [
       "         UnitPrice\n",
       "count  3503.000000\n",
       "mean      1.050805\n",
       "std       0.239006\n",
       "min       0.990000\n",
       "25%       0.990000\n",
       "50%       0.990000\n",
       "75%       0.990000\n",
       "max       1.990000"
      ]
     },
     "execution_count": 118,
     "metadata": {},
     "output_type": "execute_result"
    }
   ],
   "source": [
    "sql_df.describe()"
   ]
  },
  {
   "cell_type": "code",
   "execution_count": 88,
   "metadata": {},
   "outputs": [
    {
     "name": "stdout",
     "output_type": "stream",
     "text": [
      "<class 'pandas.core.frame.DataFrame'>\n",
      "RangeIndex: 3503 entries, 0 to 3502\n",
      "Data columns (total 6 columns):\n",
      " #   Column     Non-Null Count  Dtype  \n",
      "---  ------     --------------  -----  \n",
      " 0   Track      3503 non-null   object \n",
      " 1   Composer   2525 non-null   object \n",
      " 2   UnitPrice  3503 non-null   float64\n",
      " 3   Genre      3503 non-null   object \n",
      " 4   Album      3503 non-null   object \n",
      " 5   Artist     3503 non-null   object \n",
      "dtypes: float64(1), object(5)\n",
      "memory usage: 164.3+ KB\n"
     ]
    }
   ],
   "source": [
    "sql_df.info()"
   ]
  },
  {
   "cell_type": "markdown",
   "metadata": {},
   "source": [
    "## - DATA CLEANING"
   ]
  },
  {
   "cell_type": "markdown",
   "metadata": {},
   "source": [
    "#### Remowing irrelevant data"
   ]
  },
  {
   "cell_type": "markdown",
   "metadata": {},
   "source": [
    "We may not really interested of the ‘Composer’ column, since it contains a lot of nan values"
   ]
  },
  {
   "cell_type": "code",
   "execution_count": 89,
   "metadata": {},
   "outputs": [
    {
     "data": {
      "text/plain": [
       "Index(['Track', 'UnitPrice', 'Genre', 'Album', 'Artist'], dtype='object')"
      ]
     },
     "execution_count": 89,
     "metadata": {},
     "output_type": "execute_result"
    }
   ],
   "source": [
    "sql_df.drop('Composer', axis=1, inplace=True)\n",
    "sql_df.columns"
   ]
  },
  {
   "cell_type": "code",
   "execution_count": 90,
   "metadata": {},
   "outputs": [
    {
     "data": {
      "text/plain": [
       "Index(['Track', 'Milliseconds', 'Bytes', 'UnitPrice', 'Genre', 'Album',\n",
       "       'Artist'],\n",
       "      dtype='object')"
      ]
     },
     "execution_count": 90,
     "metadata": {},
     "output_type": "execute_result"
    }
   ],
   "source": [
    "csv_df.drop('Composer', axis=1, inplace=True)\n",
    "csv_df.columns"
   ]
  },
  {
   "cell_type": "code",
   "execution_count": 91,
   "metadata": {},
   "outputs": [
    {
     "data": {
      "text/plain": [
       "Index(['Track', 'Milliseconds', 'Bytes', 'UnitPrice', 'Genre', 'Album',\n",
       "       'Artist'],\n",
       "      dtype='object')"
      ]
     },
     "execution_count": 91,
     "metadata": {},
     "output_type": "execute_result"
    }
   ],
   "source": [
    "excel_df.drop('Composer', axis=1, inplace=True)\n",
    "excel_df.columns"
   ]
  },
  {
   "cell_type": "markdown",
   "metadata": {},
   "source": [
    "#### Dealing with missing values"
   ]
  },
  {
   "cell_type": "code",
   "execution_count": 119,
   "metadata": {},
   "outputs": [],
   "source": [
    "sql_df['Composer'].fillna('Unknown', inplace=True)\n",
    "csv_df['Composer'].fillna('Unknown', inplace=True)\n",
    "excel_df['Composer'].fillna('Unknown', inplace=True)\n"
   ]
  },
  {
   "cell_type": "code",
   "execution_count": 120,
   "metadata": {},
   "outputs": [],
   "source": [
    "sql_df['UnitPrice'].fillna(sql_df['UnitPrice'].mode(),inplace=True)\n",
    "csv_df['UnitPrice'].fillna(csv_df['UnitPrice'].mode(),inplace=True)\n",
    "excel_df['UnitPrice'].fillna(excel_df['UnitPrice'].mode(),inplace=True)"
   ]
  },
  {
   "cell_type": "code",
   "execution_count": 144,
   "metadata": {},
   "outputs": [],
   "source": [
    "itunes['Composer'].fillna('Unknown', inplace=True)\n",
    "itunes['UnitPrice'].fillna(itunes['UnitPrice'].mode(),inplace=True)"
   ]
  },
  {
   "cell_type": "code",
   "execution_count": 145,
   "metadata": {},
   "outputs": [],
   "source": [
    "itunes = remove_outliers(itunes, \"Milliseconds\")"
   ]
  },
  {
   "cell_type": "code",
   "execution_count": 128,
   "metadata": {},
   "outputs": [
    {
     "data": {
      "text/html": [
       "<div>\n",
       "<style scoped>\n",
       "    .dataframe tbody tr th:only-of-type {\n",
       "        vertical-align: middle;\n",
       "    }\n",
       "\n",
       "    .dataframe tbody tr th {\n",
       "        vertical-align: top;\n",
       "    }\n",
       "\n",
       "    .dataframe thead th {\n",
       "        text-align: right;\n",
       "    }\n",
       "</style>\n",
       "<table border=\"1\" class=\"dataframe\">\n",
       "  <thead>\n",
       "    <tr style=\"text-align: right;\">\n",
       "      <th></th>\n",
       "      <th>Track</th>\n",
       "      <th>Composer</th>\n",
       "      <th>UnitPrice</th>\n",
       "      <th>Genre</th>\n",
       "      <th>Album</th>\n",
       "      <th>Artist</th>\n",
       "    </tr>\n",
       "  </thead>\n",
       "  <tbody>\n",
       "  </tbody>\n",
       "</table>\n",
       "</div>"
      ],
      "text/plain": [
       "Empty DataFrame\n",
       "Columns: [Track, Composer, UnitPrice, Genre, Album, Artist]\n",
       "Index: []"
      ]
     },
     "execution_count": 128,
     "metadata": {},
     "output_type": "execute_result"
    }
   ],
   "source": [
    "def remove_outliers(df, column):\n",
    "    q1 = df[column].quantile(0.25)\n",
    "    q3 = df[column].quantile(0.75)\n",
    "    iqr = q3 - q1\n",
    "    upper_boundary = q3 + 1.5 * iqr\n",
    "    lower_boundary = q1 - 1.5 * iqr\n",
    "    new_df = df.loc[(df[column] > lower_boundary) & (df[column] < upper_boundary)]\n",
    "    return new_df\n",
    "sql_df = remove_outliers(sql_df, \"UnitPrice\")"
   ]
  },
  {
   "cell_type": "code",
   "execution_count": 142,
   "metadata": {},
   "outputs": [],
   "source": [
    "itunes =pd.concat([csv_df, excel_df, sql_df])"
   ]
  },
  {
   "cell_type": "code",
   "execution_count": 136,
   "metadata": {},
   "outputs": [],
   "source": [
    "sql_df.to_excel(\"output_sql.xlsx\")\n",
    "excel_df.to_excel(\"output_excel.xlsx\")\n"
   ]
  },
  {
   "cell_type": "code",
   "execution_count": 146,
   "metadata": {},
   "outputs": [],
   "source": [
    "itunes.to_excel(\"itunes.xlsx\")"
   ]
  },
  {
   "cell_type": "markdown",
   "metadata": {},
   "source": [
    "##### Using SIMPLEIMPUTER"
   ]
  },
  {
   "cell_type": "markdown",
   "metadata": {},
   "source": [
    "- You can use Sklearn.impute class SimpleImputer to impute/replace missing values for both numerical and categorical features.\n",
    "- For numerical missing values, a strategy such as mean, median, most frequent, and constant can be used.\n",
    "- For categorical features, a strategy such as the most frequent and constant can be used."
   ]
  },
  {
   "cell_type": "code",
   "execution_count": 122,
   "metadata": {},
   "outputs": [],
   "source": [
    "from sklearn.impute import SimpleImputer\n",
    "import numpy as np\n",
    "# Imputing with mean value\n",
    "imputer = SimpleImputer(missing_values=np.NaN, strategy='mean')\n",
    "# Imputing with median value\n",
    "imputer = SimpleImputer(missing_values=np.NaN, strategy='median')\n",
    "# Imputing with most frequent / mode value\n",
    "imputer = SimpleImputer(missing_values=np.NaN, strategy='most_frequent')\n",
    "#\n",
    "# Imputing with constant value; The command below replaces the missing\n",
    "# value with constant value such as 80\n",
    "imputer = SimpleImputer(missing_values=np.NaN, strategy='constant', fill_value=80)"
   ]
  },
  {
   "cell_type": "markdown",
   "metadata": {},
   "source": [
    "## Challenge 3: Ingesting, Wrangling and Analyzing Bitcoin price data\n",
    "\n",
    "\n",
    "You have just joined a financial company as a new data scientist. The company is  interested in the Bitcon market and you are working with a team that aims to ingest data and then clean, and analyse the final dataset to be used later to build and evaluate machine learning models for Bitcon Price forecasting.\n",
    "\n",
    "The company is working with two datasets coming from two different sources and is only interested in the `BTCUSD` currency: \n",
    "1. One dataset is json file locally existed in the data folder: `bitcoin_price.json`. This file contains data up to `2020-11-27`\n",
    "2. The other uses a real time data flow that comes from yahoo finance api service. The company wants to collect real time data beginning from `2020-11-28` to `2022-10-31`.\n",
    "\n",
    "You are asked to do the required checklist procedures and operations to load, clean, and analyse, and then deliver your results to the executive team with providing a short summaray of your prelimanary EDA work from pandas and save the cleaner dataset as a new csv file. \n",
    "Note that the \n",
    "\n",
    "`Hint:`\n",
    "\n",
    "1. To load a json file into a dataframe use the snipet code below:\n",
    "\n",
    "```python\n",
    "import json\n",
    "\n",
    "with open('<path_to_your_json_file>') as f:\n",
    "    data = json.load(f)\n",
    "\n",
    "btc_df_jsn=pd.DataFrame.from_dict(data)\n",
    "```\n",
    "\n",
    "This code uses the `json` built-in python module to open a json file and load it in an object data. Then we use the `from_dict()` pandas method to transform the json data into a DataFrame.\n",
    "\n",
    "2. To get real time data flow from the yahoo finance api sevice we will use the `yfinance` module. \n",
    "    * So, first install the module in your environment using  `conda install yfinance`.\n",
    "    * Then use the code below to get real data. Test with the periode from `2020-11-28` to `2022-10-31`.\n",
    "\n",
    "```python\n",
    "import yfinance as yf\n",
    "\n",
    "btc_yf_df = yf.download('BTC-USD', # The currency we are intersted in\n",
    "                   start='<start_date>', # The starting date\n",
    "                   end='<end_date>', # The starting date\n",
    "                   interval='1d' # The frequency of collecting the data. here 1 day\n",
    "                  )\n",
    "```\n",
    "\n",
    "3. Get a look of the two DataFrames and see what are the common columns and what differ one to another.\n",
    "    * You will notice that the  json DataFrame is indexed numericaly wherease the yahoo DataFrame is indexed by Date. So, you have to uniform the index for both DataFrames. In this case we will change the json DataFrame  index by Date.\n",
    "        1. To do that, first rename the column `time` to `Date` by using the built-in pandas method: `rename()` as follows:\n",
    "        \n",
    "        ```python\n",
    "        rename(columns ={'<old_col_name>':'<new_col_name>'}, inplace = True)\n",
    "         ```\n",
    "         \n",
    "        2. What is the datatype of the new Date column in the json DataFrame?\n",
    "            * You will notice that it is a `datetime64[ns]` datatype, which means the number of seconds since 1-1-1970. To make it date fomat like the yahoo DataFrame, convert the column to a pandas datetime datatype by using the following code: \n",
    "         \n",
    "          ```python\n",
    "              btc_df['<column_name>'] = pd.to_datetime(btc_df['<column_name>'], unit='ms')\n",
    "          ```\n",
    "         \n",
    "        3. To change the index of your dataframe use the `set_index` built-in pandas function:\n",
    "        ```python\n",
    "              set_index('<column_name>', inplace=True)\n",
    "        ```\n",
    "            * The remaining common columns labels in both DataFrames are not uniformed. The json DataFrame uses lowercase strings,  while the yahoo DataFrame uses a first letter world uppercase string.\n",
    "                  1. Change the column labels of the yahoo DataFrame to lowercase strings. Adjust the following code accordingly:\n",
    "             ```python\n",
    "                data_frame.columns= data_frame.columns.str.lower()\n",
    "             ```\n",
    "             \n",
    "4. Concatenate the two dataframe into one dataset.\n",
    "5. Do The basic EDA cheklist procedures on the resulting dataset:\n",
    "   * Do few time series plots: \n",
    "       * open, close, high, low, volume with regards to Date\n",
    "   * Print the correlation matrix.\n",
    "6. Do the General Data Cleaning Checklist operations to see if ther is still cleaning operations to accomplish.\n",
    "    * Most particularly, you will notice a NaN values in both `adj close` and `symbole` columns. What is your suggestion to deal with this missing values given that the company is not interest at all on the `adj close` data. \t\n",
    "7. Save your cleaner dataframe into a csv file.\n",
    "    * Use the `pandas.DataFrame.to_csv` method.\n",
    "             "
   ]
  },
  {
   "cell_type": "code",
   "execution_count": 34,
   "metadata": {},
   "outputs": [
    {
     "name": "stdout",
     "output_type": "stream",
     "text": [
      "      symbol           time          open         close         high  \\\n",
      "0     btcusd  1364688000000     92.500000     93.033000     93.74999   \n",
      "1     btcusd  1364774400000     93.250000    103.999000    105.90000   \n",
      "2     btcusd  1364860800000    104.000000    118.229354    118.38670   \n",
      "3     btcusd  1364947200000    117.958261    134.700000    146.88000   \n",
      "4     btcusd  1365033600000    134.716560    132.899000    143.00000   \n",
      "...      ...            ...           ...           ...          ...   \n",
      "2788  btcusd  1606176000000  18364.000000  19131.000000  19400.00000   \n",
      "2789  btcusd  1606262400000  19133.654712  18727.000000  19497.00000   \n",
      "2790  btcusd  1606348800000  18726.475677  17211.695801  18908.00000   \n",
      "2791  btcusd  1606435200000  17213.000000  17171.000000  17531.00000   \n",
      "2792  btcusd  1606521600000  17171.000000  17686.840768  17705.00000   \n",
      "\n",
      "              low        volume  \n",
      "0        91.00000   3083.079791  \n",
      "1        92.49999   5224.401313  \n",
      "2        99.00000   8376.527478  \n",
      "3       101.51088  12996.245072  \n",
      "4       119.00000   6981.668305  \n",
      "...           ...           ...  \n",
      "2788  18130.00000  14937.354569  \n",
      "2789  18500.00000  13477.604832  \n",
      "2790  16317.00000  34343.561464  \n",
      "2791  16501.00000  11217.912098  \n",
      "2792  16925.00000   3535.952749  \n",
      "\n",
      "[2793 rows x 7 columns]\n"
     ]
    }
   ],
   "source": [
    "#Your Solution\n",
    "import json\n",
    "with open('data/bitcoin_price.json') as f:\n",
    "    data = json.load(f)\n",
    "\n",
    "btc_df_jsn=pd.DataFrame.from_dict(data)\n",
    "print(btc_df_jsn)"
   ]
  },
  {
   "cell_type": "code",
   "execution_count": 36,
   "metadata": {},
   "outputs": [
    {
     "name": "stdout",
     "output_type": "stream",
     "text": [
      "[*********************100%***********************]  1 of 1 completed\n"
     ]
    }
   ],
   "source": [
    "import yfinance as yf\n",
    "\n",
    "btc_yf_df = yf.download('BTC-USD', # The currency we are intersted in\n",
    "                   start='2020-11-28', # The starting date\n",
    "                   end='2022-10-31', # The starting date\n",
    "                   interval='1d' # The frequency of collecting the data. here 1 day\n",
    "                  )"
   ]
  },
  {
   "cell_type": "code",
   "execution_count": 37,
   "metadata": {},
   "outputs": [
    {
     "name": "stdout",
     "output_type": "stream",
     "text": [
      "                    Open          High           Low         Close  \\\n",
      "Date                                                                 \n",
      "2020-11-28  17112.933594  17853.939453  16910.652344  17717.414062   \n",
      "2020-11-29  17719.634766  18283.628906  17559.117188  18177.484375   \n",
      "2020-11-30  18178.322266  19749.263672  18178.322266  19625.835938   \n",
      "2020-12-01  19633.769531  19845.974609  18321.921875  18802.998047   \n",
      "2020-12-02  18801.744141  19308.330078  18347.718750  19201.091797   \n",
      "...                  ...           ...           ...           ...   \n",
      "2022-10-26  20092.236328  20938.134766  20076.117188  20770.441406   \n",
      "2022-10-27  20772.802734  20854.044922  20255.373047  20285.835938   \n",
      "2022-10-28  20287.957031  20724.980469  20086.068359  20595.351562   \n",
      "2022-10-29  20595.103516  20988.394531  20566.484375  20818.476562   \n",
      "2022-10-30  20817.982422  20917.005859  20547.462891  20635.603516   \n",
      "\n",
      "               Adj Close       Volume  \n",
      "Date                                   \n",
      "2020-11-28  17717.414062  32601040734  \n",
      "2020-11-29  18177.484375  31133957704  \n",
      "2020-11-30  19625.835938  47728480399  \n",
      "2020-12-01  18802.998047  49633658712  \n",
      "2020-12-02  19201.091797  37387697139  \n",
      "...                  ...          ...  \n",
      "2022-10-26  20770.441406  58895950537  \n",
      "2022-10-27  20285.835938  49625110402  \n",
      "2022-10-28  20595.351562  43994715910  \n",
      "2022-10-29  20818.476562  40369840645  \n",
      "2022-10-30  20635.603516  31486345556  \n",
      "\n",
      "[702 rows x 6 columns]\n"
     ]
    }
   ],
   "source": [
    "print(btc_yf_df)"
   ]
  },
  {
   "cell_type": "code",
   "execution_count": 38,
   "metadata": {},
   "outputs": [],
   "source": [
    "btc_df_jsn.rename(columns ={'time':'date'}, inplace = True)"
   ]
  },
  {
   "cell_type": "code",
   "execution_count": 39,
   "metadata": {},
   "outputs": [
    {
     "data": {
      "text/html": [
       "<div>\n",
       "<style scoped>\n",
       "    .dataframe tbody tr th:only-of-type {\n",
       "        vertical-align: middle;\n",
       "    }\n",
       "\n",
       "    .dataframe tbody tr th {\n",
       "        vertical-align: top;\n",
       "    }\n",
       "\n",
       "    .dataframe thead th {\n",
       "        text-align: right;\n",
       "    }\n",
       "</style>\n",
       "<table border=\"1\" class=\"dataframe\">\n",
       "  <thead>\n",
       "    <tr style=\"text-align: right;\">\n",
       "      <th></th>\n",
       "      <th>symbol</th>\n",
       "      <th>date</th>\n",
       "      <th>open</th>\n",
       "      <th>close</th>\n",
       "      <th>high</th>\n",
       "      <th>low</th>\n",
       "      <th>volume</th>\n",
       "    </tr>\n",
       "  </thead>\n",
       "  <tbody>\n",
       "    <tr>\n",
       "      <th>0</th>\n",
       "      <td>btcusd</td>\n",
       "      <td>1364688000000</td>\n",
       "      <td>92.500000</td>\n",
       "      <td>93.033000</td>\n",
       "      <td>93.74999</td>\n",
       "      <td>91.00000</td>\n",
       "      <td>3083.079791</td>\n",
       "    </tr>\n",
       "    <tr>\n",
       "      <th>1</th>\n",
       "      <td>btcusd</td>\n",
       "      <td>1364774400000</td>\n",
       "      <td>93.250000</td>\n",
       "      <td>103.999000</td>\n",
       "      <td>105.90000</td>\n",
       "      <td>92.49999</td>\n",
       "      <td>5224.401313</td>\n",
       "    </tr>\n",
       "    <tr>\n",
       "      <th>2</th>\n",
       "      <td>btcusd</td>\n",
       "      <td>1364860800000</td>\n",
       "      <td>104.000000</td>\n",
       "      <td>118.229354</td>\n",
       "      <td>118.38670</td>\n",
       "      <td>99.00000</td>\n",
       "      <td>8376.527478</td>\n",
       "    </tr>\n",
       "    <tr>\n",
       "      <th>3</th>\n",
       "      <td>btcusd</td>\n",
       "      <td>1364947200000</td>\n",
       "      <td>117.958261</td>\n",
       "      <td>134.700000</td>\n",
       "      <td>146.88000</td>\n",
       "      <td>101.51088</td>\n",
       "      <td>12996.245072</td>\n",
       "    </tr>\n",
       "    <tr>\n",
       "      <th>4</th>\n",
       "      <td>btcusd</td>\n",
       "      <td>1365033600000</td>\n",
       "      <td>134.716560</td>\n",
       "      <td>132.899000</td>\n",
       "      <td>143.00000</td>\n",
       "      <td>119.00000</td>\n",
       "      <td>6981.668305</td>\n",
       "    </tr>\n",
       "    <tr>\n",
       "      <th>...</th>\n",
       "      <td>...</td>\n",
       "      <td>...</td>\n",
       "      <td>...</td>\n",
       "      <td>...</td>\n",
       "      <td>...</td>\n",
       "      <td>...</td>\n",
       "      <td>...</td>\n",
       "    </tr>\n",
       "    <tr>\n",
       "      <th>2788</th>\n",
       "      <td>btcusd</td>\n",
       "      <td>1606176000000</td>\n",
       "      <td>18364.000000</td>\n",
       "      <td>19131.000000</td>\n",
       "      <td>19400.00000</td>\n",
       "      <td>18130.00000</td>\n",
       "      <td>14937.354569</td>\n",
       "    </tr>\n",
       "    <tr>\n",
       "      <th>2789</th>\n",
       "      <td>btcusd</td>\n",
       "      <td>1606262400000</td>\n",
       "      <td>19133.654712</td>\n",
       "      <td>18727.000000</td>\n",
       "      <td>19497.00000</td>\n",
       "      <td>18500.00000</td>\n",
       "      <td>13477.604832</td>\n",
       "    </tr>\n",
       "    <tr>\n",
       "      <th>2790</th>\n",
       "      <td>btcusd</td>\n",
       "      <td>1606348800000</td>\n",
       "      <td>18726.475677</td>\n",
       "      <td>17211.695801</td>\n",
       "      <td>18908.00000</td>\n",
       "      <td>16317.00000</td>\n",
       "      <td>34343.561464</td>\n",
       "    </tr>\n",
       "    <tr>\n",
       "      <th>2791</th>\n",
       "      <td>btcusd</td>\n",
       "      <td>1606435200000</td>\n",
       "      <td>17213.000000</td>\n",
       "      <td>17171.000000</td>\n",
       "      <td>17531.00000</td>\n",
       "      <td>16501.00000</td>\n",
       "      <td>11217.912098</td>\n",
       "    </tr>\n",
       "    <tr>\n",
       "      <th>2792</th>\n",
       "      <td>btcusd</td>\n",
       "      <td>1606521600000</td>\n",
       "      <td>17171.000000</td>\n",
       "      <td>17686.840768</td>\n",
       "      <td>17705.00000</td>\n",
       "      <td>16925.00000</td>\n",
       "      <td>3535.952749</td>\n",
       "    </tr>\n",
       "  </tbody>\n",
       "</table>\n",
       "<p>2793 rows × 7 columns</p>\n",
       "</div>"
      ],
      "text/plain": [
       "      symbol           date          open         close         high  \\\n",
       "0     btcusd  1364688000000     92.500000     93.033000     93.74999   \n",
       "1     btcusd  1364774400000     93.250000    103.999000    105.90000   \n",
       "2     btcusd  1364860800000    104.000000    118.229354    118.38670   \n",
       "3     btcusd  1364947200000    117.958261    134.700000    146.88000   \n",
       "4     btcusd  1365033600000    134.716560    132.899000    143.00000   \n",
       "...      ...            ...           ...           ...          ...   \n",
       "2788  btcusd  1606176000000  18364.000000  19131.000000  19400.00000   \n",
       "2789  btcusd  1606262400000  19133.654712  18727.000000  19497.00000   \n",
       "2790  btcusd  1606348800000  18726.475677  17211.695801  18908.00000   \n",
       "2791  btcusd  1606435200000  17213.000000  17171.000000  17531.00000   \n",
       "2792  btcusd  1606521600000  17171.000000  17686.840768  17705.00000   \n",
       "\n",
       "              low        volume  \n",
       "0        91.00000   3083.079791  \n",
       "1        92.49999   5224.401313  \n",
       "2        99.00000   8376.527478  \n",
       "3       101.51088  12996.245072  \n",
       "4       119.00000   6981.668305  \n",
       "...           ...           ...  \n",
       "2788  18130.00000  14937.354569  \n",
       "2789  18500.00000  13477.604832  \n",
       "2790  16317.00000  34343.561464  \n",
       "2791  16501.00000  11217.912098  \n",
       "2792  16925.00000   3535.952749  \n",
       "\n",
       "[2793 rows x 7 columns]"
      ]
     },
     "execution_count": 39,
     "metadata": {},
     "output_type": "execute_result"
    }
   ],
   "source": [
    "btc_df_jsn"
   ]
  },
  {
   "cell_type": "code",
   "execution_count": 178,
   "metadata": {},
   "outputs": [
    {
     "ename": "KeyError",
     "evalue": "'date'",
     "output_type": "error",
     "traceback": [
      "\u001b[1;31m---------------------------------------------------------------------------\u001b[0m",
      "\u001b[1;31mKeyError\u001b[0m                                  Traceback (most recent call last)",
      "\u001b[1;32mE:\\anaconda\\lib\\site-packages\\pandas\\core\\indexes\\base.py\u001b[0m in \u001b[0;36mget_loc\u001b[1;34m(self, key, method, tolerance)\u001b[0m\n\u001b[0;32m   3628\u001b[0m             \u001b[1;32mtry\u001b[0m\u001b[1;33m:\u001b[0m\u001b[1;33m\u001b[0m\u001b[1;33m\u001b[0m\u001b[0m\n\u001b[1;32m-> 3629\u001b[1;33m                 \u001b[1;32mreturn\u001b[0m \u001b[0mself\u001b[0m\u001b[1;33m.\u001b[0m\u001b[0m_engine\u001b[0m\u001b[1;33m.\u001b[0m\u001b[0mget_loc\u001b[0m\u001b[1;33m(\u001b[0m\u001b[0mcasted_key\u001b[0m\u001b[1;33m)\u001b[0m\u001b[1;33m\u001b[0m\u001b[1;33m\u001b[0m\u001b[0m\n\u001b[0m\u001b[0;32m   3630\u001b[0m             \u001b[1;32mexcept\u001b[0m \u001b[0mKeyError\u001b[0m \u001b[1;32mas\u001b[0m \u001b[0merr\u001b[0m\u001b[1;33m:\u001b[0m\u001b[1;33m\u001b[0m\u001b[1;33m\u001b[0m\u001b[0m\n",
      "\u001b[1;32mE:\\anaconda\\lib\\site-packages\\pandas\\_libs\\index.pyx\u001b[0m in \u001b[0;36mpandas._libs.index.IndexEngine.get_loc\u001b[1;34m()\u001b[0m\n",
      "\u001b[1;32mE:\\anaconda\\lib\\site-packages\\pandas\\_libs\\index.pyx\u001b[0m in \u001b[0;36mpandas._libs.index.IndexEngine.get_loc\u001b[1;34m()\u001b[0m\n",
      "\u001b[1;32mpandas\\_libs\\hashtable_class_helper.pxi\u001b[0m in \u001b[0;36mpandas._libs.hashtable.PyObjectHashTable.get_item\u001b[1;34m()\u001b[0m\n",
      "\u001b[1;32mpandas\\_libs\\hashtable_class_helper.pxi\u001b[0m in \u001b[0;36mpandas._libs.hashtable.PyObjectHashTable.get_item\u001b[1;34m()\u001b[0m\n",
      "\u001b[1;31mKeyError\u001b[0m: 'date'",
      "\nThe above exception was the direct cause of the following exception:\n",
      "\u001b[1;31mKeyError\u001b[0m                                  Traceback (most recent call last)",
      "\u001b[1;32m~\\AppData\\Local\\Temp\\ipykernel_9816\\2345931548.py\u001b[0m in \u001b[0;36m<module>\u001b[1;34m\u001b[0m\n\u001b[1;32m----> 1\u001b[1;33m \u001b[0mbtc_df_jsn\u001b[0m\u001b[1;33m[\u001b[0m\u001b[1;34m'date'\u001b[0m\u001b[1;33m]\u001b[0m \u001b[1;33m=\u001b[0m \u001b[0mpd\u001b[0m\u001b[1;33m.\u001b[0m\u001b[0mto_datetime\u001b[0m\u001b[1;33m(\u001b[0m\u001b[0mbtc_df_jsn\u001b[0m\u001b[1;33m[\u001b[0m\u001b[1;34m'date'\u001b[0m\u001b[1;33m]\u001b[0m\u001b[1;33m,\u001b[0m \u001b[0munit\u001b[0m\u001b[1;33m=\u001b[0m\u001b[1;34m'ms'\u001b[0m\u001b[1;33m)\u001b[0m\u001b[1;33m\u001b[0m\u001b[1;33m\u001b[0m\u001b[0m\n\u001b[0m",
      "\u001b[1;32mE:\\anaconda\\lib\\site-packages\\pandas\\core\\frame.py\u001b[0m in \u001b[0;36m__getitem__\u001b[1;34m(self, key)\u001b[0m\n\u001b[0;32m   3503\u001b[0m             \u001b[1;32mif\u001b[0m \u001b[0mself\u001b[0m\u001b[1;33m.\u001b[0m\u001b[0mcolumns\u001b[0m\u001b[1;33m.\u001b[0m\u001b[0mnlevels\u001b[0m \u001b[1;33m>\u001b[0m \u001b[1;36m1\u001b[0m\u001b[1;33m:\u001b[0m\u001b[1;33m\u001b[0m\u001b[1;33m\u001b[0m\u001b[0m\n\u001b[0;32m   3504\u001b[0m                 \u001b[1;32mreturn\u001b[0m \u001b[0mself\u001b[0m\u001b[1;33m.\u001b[0m\u001b[0m_getitem_multilevel\u001b[0m\u001b[1;33m(\u001b[0m\u001b[0mkey\u001b[0m\u001b[1;33m)\u001b[0m\u001b[1;33m\u001b[0m\u001b[1;33m\u001b[0m\u001b[0m\n\u001b[1;32m-> 3505\u001b[1;33m             \u001b[0mindexer\u001b[0m \u001b[1;33m=\u001b[0m \u001b[0mself\u001b[0m\u001b[1;33m.\u001b[0m\u001b[0mcolumns\u001b[0m\u001b[1;33m.\u001b[0m\u001b[0mget_loc\u001b[0m\u001b[1;33m(\u001b[0m\u001b[0mkey\u001b[0m\u001b[1;33m)\u001b[0m\u001b[1;33m\u001b[0m\u001b[1;33m\u001b[0m\u001b[0m\n\u001b[0m\u001b[0;32m   3506\u001b[0m             \u001b[1;32mif\u001b[0m \u001b[0mis_integer\u001b[0m\u001b[1;33m(\u001b[0m\u001b[0mindexer\u001b[0m\u001b[1;33m)\u001b[0m\u001b[1;33m:\u001b[0m\u001b[1;33m\u001b[0m\u001b[1;33m\u001b[0m\u001b[0m\n\u001b[0;32m   3507\u001b[0m                 \u001b[0mindexer\u001b[0m \u001b[1;33m=\u001b[0m \u001b[1;33m[\u001b[0m\u001b[0mindexer\u001b[0m\u001b[1;33m]\u001b[0m\u001b[1;33m\u001b[0m\u001b[1;33m\u001b[0m\u001b[0m\n",
      "\u001b[1;32mE:\\anaconda\\lib\\site-packages\\pandas\\core\\indexes\\base.py\u001b[0m in \u001b[0;36mget_loc\u001b[1;34m(self, key, method, tolerance)\u001b[0m\n\u001b[0;32m   3629\u001b[0m                 \u001b[1;32mreturn\u001b[0m \u001b[0mself\u001b[0m\u001b[1;33m.\u001b[0m\u001b[0m_engine\u001b[0m\u001b[1;33m.\u001b[0m\u001b[0mget_loc\u001b[0m\u001b[1;33m(\u001b[0m\u001b[0mcasted_key\u001b[0m\u001b[1;33m)\u001b[0m\u001b[1;33m\u001b[0m\u001b[1;33m\u001b[0m\u001b[0m\n\u001b[0;32m   3630\u001b[0m             \u001b[1;32mexcept\u001b[0m \u001b[0mKeyError\u001b[0m \u001b[1;32mas\u001b[0m \u001b[0merr\u001b[0m\u001b[1;33m:\u001b[0m\u001b[1;33m\u001b[0m\u001b[1;33m\u001b[0m\u001b[0m\n\u001b[1;32m-> 3631\u001b[1;33m                 \u001b[1;32mraise\u001b[0m \u001b[0mKeyError\u001b[0m\u001b[1;33m(\u001b[0m\u001b[0mkey\u001b[0m\u001b[1;33m)\u001b[0m \u001b[1;32mfrom\u001b[0m \u001b[0merr\u001b[0m\u001b[1;33m\u001b[0m\u001b[1;33m\u001b[0m\u001b[0m\n\u001b[0m\u001b[0;32m   3632\u001b[0m             \u001b[1;32mexcept\u001b[0m \u001b[0mTypeError\u001b[0m\u001b[1;33m:\u001b[0m\u001b[1;33m\u001b[0m\u001b[1;33m\u001b[0m\u001b[0m\n\u001b[0;32m   3633\u001b[0m                 \u001b[1;31m# If we have a listlike key, _check_indexing_error will raise\u001b[0m\u001b[1;33m\u001b[0m\u001b[1;33m\u001b[0m\u001b[0m\n",
      "\u001b[1;31mKeyError\u001b[0m: 'date'"
     ]
    }
   ],
   "source": [
    "btc_df_jsn['date'] = pd.to_datetime(btc_df_jsn['date'], unit='ms')"
   ]
  },
  {
   "cell_type": "code",
   "execution_count": 179,
   "metadata": {},
   "outputs": [
    {
     "data": {
      "text/html": [
       "<div>\n",
       "<style scoped>\n",
       "    .dataframe tbody tr th:only-of-type {\n",
       "        vertical-align: middle;\n",
       "    }\n",
       "\n",
       "    .dataframe tbody tr th {\n",
       "        vertical-align: top;\n",
       "    }\n",
       "\n",
       "    .dataframe thead th {\n",
       "        text-align: right;\n",
       "    }\n",
       "</style>\n",
       "<table border=\"1\" class=\"dataframe\">\n",
       "  <thead>\n",
       "    <tr style=\"text-align: right;\">\n",
       "      <th></th>\n",
       "      <th>symbol</th>\n",
       "      <th>open</th>\n",
       "      <th>close</th>\n",
       "      <th>high</th>\n",
       "      <th>low</th>\n",
       "      <th>volume</th>\n",
       "    </tr>\n",
       "    <tr>\n",
       "      <th>date</th>\n",
       "      <th></th>\n",
       "      <th></th>\n",
       "      <th></th>\n",
       "      <th></th>\n",
       "      <th></th>\n",
       "      <th></th>\n",
       "    </tr>\n",
       "  </thead>\n",
       "  <tbody>\n",
       "    <tr>\n",
       "      <th>2013-03-31</th>\n",
       "      <td>btcusd</td>\n",
       "      <td>92.500000</td>\n",
       "      <td>93.033000</td>\n",
       "      <td>93.74999</td>\n",
       "      <td>91.00000</td>\n",
       "      <td>3083.079791</td>\n",
       "    </tr>\n",
       "    <tr>\n",
       "      <th>2013-04-01</th>\n",
       "      <td>btcusd</td>\n",
       "      <td>93.250000</td>\n",
       "      <td>103.999000</td>\n",
       "      <td>105.90000</td>\n",
       "      <td>92.49999</td>\n",
       "      <td>5224.401313</td>\n",
       "    </tr>\n",
       "    <tr>\n",
       "      <th>2013-04-02</th>\n",
       "      <td>btcusd</td>\n",
       "      <td>104.000000</td>\n",
       "      <td>118.229354</td>\n",
       "      <td>118.38670</td>\n",
       "      <td>99.00000</td>\n",
       "      <td>8376.527478</td>\n",
       "    </tr>\n",
       "    <tr>\n",
       "      <th>2013-04-03</th>\n",
       "      <td>btcusd</td>\n",
       "      <td>117.958261</td>\n",
       "      <td>134.700000</td>\n",
       "      <td>146.88000</td>\n",
       "      <td>101.51088</td>\n",
       "      <td>12996.245072</td>\n",
       "    </tr>\n",
       "    <tr>\n",
       "      <th>2013-04-04</th>\n",
       "      <td>btcusd</td>\n",
       "      <td>134.716560</td>\n",
       "      <td>132.899000</td>\n",
       "      <td>143.00000</td>\n",
       "      <td>119.00000</td>\n",
       "      <td>6981.668305</td>\n",
       "    </tr>\n",
       "    <tr>\n",
       "      <th>...</th>\n",
       "      <td>...</td>\n",
       "      <td>...</td>\n",
       "      <td>...</td>\n",
       "      <td>...</td>\n",
       "      <td>...</td>\n",
       "      <td>...</td>\n",
       "    </tr>\n",
       "    <tr>\n",
       "      <th>2020-11-24</th>\n",
       "      <td>btcusd</td>\n",
       "      <td>18364.000000</td>\n",
       "      <td>19131.000000</td>\n",
       "      <td>19400.00000</td>\n",
       "      <td>18130.00000</td>\n",
       "      <td>14937.354569</td>\n",
       "    </tr>\n",
       "    <tr>\n",
       "      <th>2020-11-25</th>\n",
       "      <td>btcusd</td>\n",
       "      <td>19133.654712</td>\n",
       "      <td>18727.000000</td>\n",
       "      <td>19497.00000</td>\n",
       "      <td>18500.00000</td>\n",
       "      <td>13477.604832</td>\n",
       "    </tr>\n",
       "    <tr>\n",
       "      <th>2020-11-26</th>\n",
       "      <td>btcusd</td>\n",
       "      <td>18726.475677</td>\n",
       "      <td>17211.695801</td>\n",
       "      <td>18908.00000</td>\n",
       "      <td>16317.00000</td>\n",
       "      <td>34343.561464</td>\n",
       "    </tr>\n",
       "    <tr>\n",
       "      <th>2020-11-27</th>\n",
       "      <td>btcusd</td>\n",
       "      <td>17213.000000</td>\n",
       "      <td>17171.000000</td>\n",
       "      <td>17531.00000</td>\n",
       "      <td>16501.00000</td>\n",
       "      <td>11217.912098</td>\n",
       "    </tr>\n",
       "    <tr>\n",
       "      <th>2020-11-28</th>\n",
       "      <td>btcusd</td>\n",
       "      <td>17171.000000</td>\n",
       "      <td>17686.840768</td>\n",
       "      <td>17705.00000</td>\n",
       "      <td>16925.00000</td>\n",
       "      <td>3535.952749</td>\n",
       "    </tr>\n",
       "  </tbody>\n",
       "</table>\n",
       "<p>2793 rows × 6 columns</p>\n",
       "</div>"
      ],
      "text/plain": [
       "            symbol          open         close         high          low  \\\n",
       "date                                                                       \n",
       "2013-03-31  btcusd     92.500000     93.033000     93.74999     91.00000   \n",
       "2013-04-01  btcusd     93.250000    103.999000    105.90000     92.49999   \n",
       "2013-04-02  btcusd    104.000000    118.229354    118.38670     99.00000   \n",
       "2013-04-03  btcusd    117.958261    134.700000    146.88000    101.51088   \n",
       "2013-04-04  btcusd    134.716560    132.899000    143.00000    119.00000   \n",
       "...            ...           ...           ...          ...          ...   \n",
       "2020-11-24  btcusd  18364.000000  19131.000000  19400.00000  18130.00000   \n",
       "2020-11-25  btcusd  19133.654712  18727.000000  19497.00000  18500.00000   \n",
       "2020-11-26  btcusd  18726.475677  17211.695801  18908.00000  16317.00000   \n",
       "2020-11-27  btcusd  17213.000000  17171.000000  17531.00000  16501.00000   \n",
       "2020-11-28  btcusd  17171.000000  17686.840768  17705.00000  16925.00000   \n",
       "\n",
       "                  volume  \n",
       "date                      \n",
       "2013-03-31   3083.079791  \n",
       "2013-04-01   5224.401313  \n",
       "2013-04-02   8376.527478  \n",
       "2013-04-03  12996.245072  \n",
       "2013-04-04   6981.668305  \n",
       "...                  ...  \n",
       "2020-11-24  14937.354569  \n",
       "2020-11-25  13477.604832  \n",
       "2020-11-26  34343.561464  \n",
       "2020-11-27  11217.912098  \n",
       "2020-11-28   3535.952749  \n",
       "\n",
       "[2793 rows x 6 columns]"
      ]
     },
     "execution_count": 179,
     "metadata": {},
     "output_type": "execute_result"
    }
   ],
   "source": [
    "btc_df_jsn"
   ]
  },
  {
   "cell_type": "code",
   "execution_count": 180,
   "metadata": {},
   "outputs": [
    {
     "ename": "KeyError",
     "evalue": "\"None of ['date'] are in the columns\"",
     "output_type": "error",
     "traceback": [
      "\u001b[1;31m---------------------------------------------------------------------------\u001b[0m",
      "\u001b[1;31mKeyError\u001b[0m                                  Traceback (most recent call last)",
      "\u001b[1;32m~\\AppData\\Local\\Temp\\ipykernel_9816\\2039703244.py\u001b[0m in \u001b[0;36m<module>\u001b[1;34m\u001b[0m\n\u001b[1;32m----> 1\u001b[1;33m \u001b[0mbtc_df_jsn\u001b[0m\u001b[1;33m.\u001b[0m\u001b[0mset_index\u001b[0m\u001b[1;33m(\u001b[0m\u001b[1;34m'date'\u001b[0m\u001b[1;33m,\u001b[0m \u001b[0minplace\u001b[0m\u001b[1;33m=\u001b[0m\u001b[1;32mTrue\u001b[0m\u001b[1;33m)\u001b[0m\u001b[1;33m\u001b[0m\u001b[1;33m\u001b[0m\u001b[0m\n\u001b[0m",
      "\u001b[1;32mE:\\anaconda\\lib\\site-packages\\pandas\\util\\_decorators.py\u001b[0m in \u001b[0;36mwrapper\u001b[1;34m(*args, **kwargs)\u001b[0m\n\u001b[0;32m    309\u001b[0m                     \u001b[0mstacklevel\u001b[0m\u001b[1;33m=\u001b[0m\u001b[0mstacklevel\u001b[0m\u001b[1;33m,\u001b[0m\u001b[1;33m\u001b[0m\u001b[1;33m\u001b[0m\u001b[0m\n\u001b[0;32m    310\u001b[0m                 )\n\u001b[1;32m--> 311\u001b[1;33m             \u001b[1;32mreturn\u001b[0m \u001b[0mfunc\u001b[0m\u001b[1;33m(\u001b[0m\u001b[1;33m*\u001b[0m\u001b[0margs\u001b[0m\u001b[1;33m,\u001b[0m \u001b[1;33m**\u001b[0m\u001b[0mkwargs\u001b[0m\u001b[1;33m)\u001b[0m\u001b[1;33m\u001b[0m\u001b[1;33m\u001b[0m\u001b[0m\n\u001b[0m\u001b[0;32m    312\u001b[0m \u001b[1;33m\u001b[0m\u001b[0m\n\u001b[0;32m    313\u001b[0m         \u001b[1;32mreturn\u001b[0m \u001b[0mwrapper\u001b[0m\u001b[1;33m\u001b[0m\u001b[1;33m\u001b[0m\u001b[0m\n",
      "\u001b[1;32mE:\\anaconda\\lib\\site-packages\\pandas\\core\\frame.py\u001b[0m in \u001b[0;36mset_index\u001b[1;34m(self, keys, drop, append, inplace, verify_integrity)\u001b[0m\n\u001b[0;32m   5501\u001b[0m \u001b[1;33m\u001b[0m\u001b[0m\n\u001b[0;32m   5502\u001b[0m         \u001b[1;32mif\u001b[0m \u001b[0mmissing\u001b[0m\u001b[1;33m:\u001b[0m\u001b[1;33m\u001b[0m\u001b[1;33m\u001b[0m\u001b[0m\n\u001b[1;32m-> 5503\u001b[1;33m             \u001b[1;32mraise\u001b[0m \u001b[0mKeyError\u001b[0m\u001b[1;33m(\u001b[0m\u001b[1;34mf\"None of {missing} are in the columns\"\u001b[0m\u001b[1;33m)\u001b[0m\u001b[1;33m\u001b[0m\u001b[1;33m\u001b[0m\u001b[0m\n\u001b[0m\u001b[0;32m   5504\u001b[0m \u001b[1;33m\u001b[0m\u001b[0m\n\u001b[0;32m   5505\u001b[0m         \u001b[1;32mif\u001b[0m \u001b[0minplace\u001b[0m\u001b[1;33m:\u001b[0m\u001b[1;33m\u001b[0m\u001b[1;33m\u001b[0m\u001b[0m\n",
      "\u001b[1;31mKeyError\u001b[0m: \"None of ['date'] are in the columns\""
     ]
    }
   ],
   "source": [
    "btc_df_jsn.set_index('date', inplace=True)"
   ]
  },
  {
   "cell_type": "code",
   "execution_count": 181,
   "metadata": {},
   "outputs": [
    {
     "data": {
      "text/html": [
       "<div>\n",
       "<style scoped>\n",
       "    .dataframe tbody tr th:only-of-type {\n",
       "        vertical-align: middle;\n",
       "    }\n",
       "\n",
       "    .dataframe tbody tr th {\n",
       "        vertical-align: top;\n",
       "    }\n",
       "\n",
       "    .dataframe thead th {\n",
       "        text-align: right;\n",
       "    }\n",
       "</style>\n",
       "<table border=\"1\" class=\"dataframe\">\n",
       "  <thead>\n",
       "    <tr style=\"text-align: right;\">\n",
       "      <th></th>\n",
       "      <th>symbol</th>\n",
       "      <th>open</th>\n",
       "      <th>close</th>\n",
       "      <th>high</th>\n",
       "      <th>low</th>\n",
       "      <th>volume</th>\n",
       "    </tr>\n",
       "    <tr>\n",
       "      <th>date</th>\n",
       "      <th></th>\n",
       "      <th></th>\n",
       "      <th></th>\n",
       "      <th></th>\n",
       "      <th></th>\n",
       "      <th></th>\n",
       "    </tr>\n",
       "  </thead>\n",
       "  <tbody>\n",
       "    <tr>\n",
       "      <th>2013-03-31</th>\n",
       "      <td>btcusd</td>\n",
       "      <td>92.500000</td>\n",
       "      <td>93.033000</td>\n",
       "      <td>93.74999</td>\n",
       "      <td>91.00000</td>\n",
       "      <td>3083.079791</td>\n",
       "    </tr>\n",
       "    <tr>\n",
       "      <th>2013-04-01</th>\n",
       "      <td>btcusd</td>\n",
       "      <td>93.250000</td>\n",
       "      <td>103.999000</td>\n",
       "      <td>105.90000</td>\n",
       "      <td>92.49999</td>\n",
       "      <td>5224.401313</td>\n",
       "    </tr>\n",
       "    <tr>\n",
       "      <th>2013-04-02</th>\n",
       "      <td>btcusd</td>\n",
       "      <td>104.000000</td>\n",
       "      <td>118.229354</td>\n",
       "      <td>118.38670</td>\n",
       "      <td>99.00000</td>\n",
       "      <td>8376.527478</td>\n",
       "    </tr>\n",
       "    <tr>\n",
       "      <th>2013-04-03</th>\n",
       "      <td>btcusd</td>\n",
       "      <td>117.958261</td>\n",
       "      <td>134.700000</td>\n",
       "      <td>146.88000</td>\n",
       "      <td>101.51088</td>\n",
       "      <td>12996.245072</td>\n",
       "    </tr>\n",
       "    <tr>\n",
       "      <th>2013-04-04</th>\n",
       "      <td>btcusd</td>\n",
       "      <td>134.716560</td>\n",
       "      <td>132.899000</td>\n",
       "      <td>143.00000</td>\n",
       "      <td>119.00000</td>\n",
       "      <td>6981.668305</td>\n",
       "    </tr>\n",
       "    <tr>\n",
       "      <th>...</th>\n",
       "      <td>...</td>\n",
       "      <td>...</td>\n",
       "      <td>...</td>\n",
       "      <td>...</td>\n",
       "      <td>...</td>\n",
       "      <td>...</td>\n",
       "    </tr>\n",
       "    <tr>\n",
       "      <th>2020-11-24</th>\n",
       "      <td>btcusd</td>\n",
       "      <td>18364.000000</td>\n",
       "      <td>19131.000000</td>\n",
       "      <td>19400.00000</td>\n",
       "      <td>18130.00000</td>\n",
       "      <td>14937.354569</td>\n",
       "    </tr>\n",
       "    <tr>\n",
       "      <th>2020-11-25</th>\n",
       "      <td>btcusd</td>\n",
       "      <td>19133.654712</td>\n",
       "      <td>18727.000000</td>\n",
       "      <td>19497.00000</td>\n",
       "      <td>18500.00000</td>\n",
       "      <td>13477.604832</td>\n",
       "    </tr>\n",
       "    <tr>\n",
       "      <th>2020-11-26</th>\n",
       "      <td>btcusd</td>\n",
       "      <td>18726.475677</td>\n",
       "      <td>17211.695801</td>\n",
       "      <td>18908.00000</td>\n",
       "      <td>16317.00000</td>\n",
       "      <td>34343.561464</td>\n",
       "    </tr>\n",
       "    <tr>\n",
       "      <th>2020-11-27</th>\n",
       "      <td>btcusd</td>\n",
       "      <td>17213.000000</td>\n",
       "      <td>17171.000000</td>\n",
       "      <td>17531.00000</td>\n",
       "      <td>16501.00000</td>\n",
       "      <td>11217.912098</td>\n",
       "    </tr>\n",
       "    <tr>\n",
       "      <th>2020-11-28</th>\n",
       "      <td>btcusd</td>\n",
       "      <td>17171.000000</td>\n",
       "      <td>17686.840768</td>\n",
       "      <td>17705.00000</td>\n",
       "      <td>16925.00000</td>\n",
       "      <td>3535.952749</td>\n",
       "    </tr>\n",
       "  </tbody>\n",
       "</table>\n",
       "<p>2793 rows × 6 columns</p>\n",
       "</div>"
      ],
      "text/plain": [
       "            symbol          open         close         high          low  \\\n",
       "date                                                                       \n",
       "2013-03-31  btcusd     92.500000     93.033000     93.74999     91.00000   \n",
       "2013-04-01  btcusd     93.250000    103.999000    105.90000     92.49999   \n",
       "2013-04-02  btcusd    104.000000    118.229354    118.38670     99.00000   \n",
       "2013-04-03  btcusd    117.958261    134.700000    146.88000    101.51088   \n",
       "2013-04-04  btcusd    134.716560    132.899000    143.00000    119.00000   \n",
       "...            ...           ...           ...          ...          ...   \n",
       "2020-11-24  btcusd  18364.000000  19131.000000  19400.00000  18130.00000   \n",
       "2020-11-25  btcusd  19133.654712  18727.000000  19497.00000  18500.00000   \n",
       "2020-11-26  btcusd  18726.475677  17211.695801  18908.00000  16317.00000   \n",
       "2020-11-27  btcusd  17213.000000  17171.000000  17531.00000  16501.00000   \n",
       "2020-11-28  btcusd  17171.000000  17686.840768  17705.00000  16925.00000   \n",
       "\n",
       "                  volume  \n",
       "date                      \n",
       "2013-03-31   3083.079791  \n",
       "2013-04-01   5224.401313  \n",
       "2013-04-02   8376.527478  \n",
       "2013-04-03  12996.245072  \n",
       "2013-04-04   6981.668305  \n",
       "...                  ...  \n",
       "2020-11-24  14937.354569  \n",
       "2020-11-25  13477.604832  \n",
       "2020-11-26  34343.561464  \n",
       "2020-11-27  11217.912098  \n",
       "2020-11-28   3535.952749  \n",
       "\n",
       "[2793 rows x 6 columns]"
      ]
     },
     "execution_count": 181,
     "metadata": {},
     "output_type": "execute_result"
    }
   ],
   "source": [
    "btc_df_jsn"
   ]
  },
  {
   "cell_type": "code",
   "execution_count": 182,
   "metadata": {},
   "outputs": [],
   "source": [
    "btc_df_jsn.columns= btc_df_jsn.columns.str.lower()"
   ]
  },
  {
   "cell_type": "code",
   "execution_count": 183,
   "metadata": {},
   "outputs": [],
   "source": [
    "btc_yf_df.columns= btc_yf_df.columns.str.lower()"
   ]
  },
  {
   "cell_type": "code",
   "execution_count": 184,
   "metadata": {},
   "outputs": [
    {
     "data": {
      "text/plain": [
       "pandas.core.frame.DataFrame"
      ]
     },
     "execution_count": 184,
     "metadata": {},
     "output_type": "execute_result"
    }
   ],
   "source": [
    "type(btc_yf_df)"
   ]
  },
  {
   "cell_type": "code",
   "execution_count": 185,
   "metadata": {},
   "outputs": [
    {
     "data": {
      "text/plain": [
       "pandas.core.frame.DataFrame"
      ]
     },
     "execution_count": 185,
     "metadata": {},
     "output_type": "execute_result"
    }
   ],
   "source": [
    "type(btc_df_jsn)"
   ]
  },
  {
   "cell_type": "code",
   "execution_count": 186,
   "metadata": {},
   "outputs": [],
   "source": [
    "conc_btc= pd.concat([btc_df_jsn,btc_yf_df])"
   ]
  },
  {
   "cell_type": "code",
   "execution_count": 187,
   "metadata": {},
   "outputs": [
    {
     "data": {
      "text/html": [
       "<div>\n",
       "<style scoped>\n",
       "    .dataframe tbody tr th:only-of-type {\n",
       "        vertical-align: middle;\n",
       "    }\n",
       "\n",
       "    .dataframe tbody tr th {\n",
       "        vertical-align: top;\n",
       "    }\n",
       "\n",
       "    .dataframe thead th {\n",
       "        text-align: right;\n",
       "    }\n",
       "</style>\n",
       "<table border=\"1\" class=\"dataframe\">\n",
       "  <thead>\n",
       "    <tr style=\"text-align: right;\">\n",
       "      <th></th>\n",
       "      <th>symbol</th>\n",
       "      <th>open</th>\n",
       "      <th>close</th>\n",
       "      <th>high</th>\n",
       "      <th>low</th>\n",
       "      <th>volume</th>\n",
       "      <th>adj close</th>\n",
       "    </tr>\n",
       "  </thead>\n",
       "  <tbody>\n",
       "    <tr>\n",
       "      <th>2013-03-31</th>\n",
       "      <td>btcusd</td>\n",
       "      <td>92.500000</td>\n",
       "      <td>93.033000</td>\n",
       "      <td>93.749990</td>\n",
       "      <td>91.000000</td>\n",
       "      <td>3.083080e+03</td>\n",
       "      <td>NaN</td>\n",
       "    </tr>\n",
       "    <tr>\n",
       "      <th>2013-04-01</th>\n",
       "      <td>btcusd</td>\n",
       "      <td>93.250000</td>\n",
       "      <td>103.999000</td>\n",
       "      <td>105.900000</td>\n",
       "      <td>92.499990</td>\n",
       "      <td>5.224401e+03</td>\n",
       "      <td>NaN</td>\n",
       "    </tr>\n",
       "    <tr>\n",
       "      <th>2013-04-02</th>\n",
       "      <td>btcusd</td>\n",
       "      <td>104.000000</td>\n",
       "      <td>118.229354</td>\n",
       "      <td>118.386700</td>\n",
       "      <td>99.000000</td>\n",
       "      <td>8.376527e+03</td>\n",
       "      <td>NaN</td>\n",
       "    </tr>\n",
       "    <tr>\n",
       "      <th>2013-04-03</th>\n",
       "      <td>btcusd</td>\n",
       "      <td>117.958261</td>\n",
       "      <td>134.700000</td>\n",
       "      <td>146.880000</td>\n",
       "      <td>101.510880</td>\n",
       "      <td>1.299625e+04</td>\n",
       "      <td>NaN</td>\n",
       "    </tr>\n",
       "    <tr>\n",
       "      <th>2013-04-04</th>\n",
       "      <td>btcusd</td>\n",
       "      <td>134.716560</td>\n",
       "      <td>132.899000</td>\n",
       "      <td>143.000000</td>\n",
       "      <td>119.000000</td>\n",
       "      <td>6.981668e+03</td>\n",
       "      <td>NaN</td>\n",
       "    </tr>\n",
       "    <tr>\n",
       "      <th>...</th>\n",
       "      <td>...</td>\n",
       "      <td>...</td>\n",
       "      <td>...</td>\n",
       "      <td>...</td>\n",
       "      <td>...</td>\n",
       "      <td>...</td>\n",
       "      <td>...</td>\n",
       "    </tr>\n",
       "    <tr>\n",
       "      <th>2022-10-26</th>\n",
       "      <td>NaN</td>\n",
       "      <td>20092.236328</td>\n",
       "      <td>20770.441406</td>\n",
       "      <td>20938.134766</td>\n",
       "      <td>20076.117188</td>\n",
       "      <td>5.889595e+10</td>\n",
       "      <td>20770.441406</td>\n",
       "    </tr>\n",
       "    <tr>\n",
       "      <th>2022-10-27</th>\n",
       "      <td>NaN</td>\n",
       "      <td>20772.802734</td>\n",
       "      <td>20285.835938</td>\n",
       "      <td>20854.044922</td>\n",
       "      <td>20255.373047</td>\n",
       "      <td>4.962511e+10</td>\n",
       "      <td>20285.835938</td>\n",
       "    </tr>\n",
       "    <tr>\n",
       "      <th>2022-10-28</th>\n",
       "      <td>NaN</td>\n",
       "      <td>20287.957031</td>\n",
       "      <td>20595.351562</td>\n",
       "      <td>20724.980469</td>\n",
       "      <td>20086.068359</td>\n",
       "      <td>4.399472e+10</td>\n",
       "      <td>20595.351562</td>\n",
       "    </tr>\n",
       "    <tr>\n",
       "      <th>2022-10-29</th>\n",
       "      <td>NaN</td>\n",
       "      <td>20595.103516</td>\n",
       "      <td>20818.476562</td>\n",
       "      <td>20988.394531</td>\n",
       "      <td>20566.484375</td>\n",
       "      <td>4.036984e+10</td>\n",
       "      <td>20818.476562</td>\n",
       "    </tr>\n",
       "    <tr>\n",
       "      <th>2022-10-30</th>\n",
       "      <td>NaN</td>\n",
       "      <td>20817.982422</td>\n",
       "      <td>20635.603516</td>\n",
       "      <td>20917.005859</td>\n",
       "      <td>20547.462891</td>\n",
       "      <td>3.148635e+10</td>\n",
       "      <td>20635.603516</td>\n",
       "    </tr>\n",
       "  </tbody>\n",
       "</table>\n",
       "<p>3495 rows × 7 columns</p>\n",
       "</div>"
      ],
      "text/plain": [
       "            symbol          open         close          high           low  \\\n",
       "2013-03-31  btcusd     92.500000     93.033000     93.749990     91.000000   \n",
       "2013-04-01  btcusd     93.250000    103.999000    105.900000     92.499990   \n",
       "2013-04-02  btcusd    104.000000    118.229354    118.386700     99.000000   \n",
       "2013-04-03  btcusd    117.958261    134.700000    146.880000    101.510880   \n",
       "2013-04-04  btcusd    134.716560    132.899000    143.000000    119.000000   \n",
       "...            ...           ...           ...           ...           ...   \n",
       "2022-10-26     NaN  20092.236328  20770.441406  20938.134766  20076.117188   \n",
       "2022-10-27     NaN  20772.802734  20285.835938  20854.044922  20255.373047   \n",
       "2022-10-28     NaN  20287.957031  20595.351562  20724.980469  20086.068359   \n",
       "2022-10-29     NaN  20595.103516  20818.476562  20988.394531  20566.484375   \n",
       "2022-10-30     NaN  20817.982422  20635.603516  20917.005859  20547.462891   \n",
       "\n",
       "                  volume     adj close  \n",
       "2013-03-31  3.083080e+03           NaN  \n",
       "2013-04-01  5.224401e+03           NaN  \n",
       "2013-04-02  8.376527e+03           NaN  \n",
       "2013-04-03  1.299625e+04           NaN  \n",
       "2013-04-04  6.981668e+03           NaN  \n",
       "...                  ...           ...  \n",
       "2022-10-26  5.889595e+10  20770.441406  \n",
       "2022-10-27  4.962511e+10  20285.835938  \n",
       "2022-10-28  4.399472e+10  20595.351562  \n",
       "2022-10-29  4.036984e+10  20818.476562  \n",
       "2022-10-30  3.148635e+10  20635.603516  \n",
       "\n",
       "[3495 rows x 7 columns]"
      ]
     },
     "execution_count": 187,
     "metadata": {},
     "output_type": "execute_result"
    }
   ],
   "source": [
    "conc_btc"
   ]
  },
  {
   "cell_type": "code",
   "execution_count": 188,
   "metadata": {},
   "outputs": [
    {
     "data": {
      "text/plain": [
       "<AxesSubplot:>"
      ]
     },
     "execution_count": 188,
     "metadata": {},
     "output_type": "execute_result"
    },
    {
     "data": {
      "image/png": "[encoded data removed]",
      "text/plain": [
       "<Figure size 640x480 with 1 Axes>"
      ]
     },
     "metadata": {},
     "output_type": "display_data"
    }
   ],
   "source": [
    "conc_btc['open'].hist()"
   ]
  },
  {
   "cell_type": "code",
   "execution_count": 189,
   "metadata": {},
   "outputs": [
    {
     "data": {
      "text/plain": [
       "<AxesSubplot:>"
      ]
     },
     "execution_count": 189,
     "metadata": {},
     "output_type": "execute_result"
    },
    {
     "data": {
      "image/png": "[encoded data removed]",
      "text/plain": [
       "<Figure size 640x480 with 1 Axes>"
      ]
     },
     "metadata": {},
     "output_type": "display_data"
    }
   ],
   "source": [
    "conc_btc['close'].hist()"
   ]
  },
  {
   "cell_type": "code",
   "execution_count": 196,
   "metadata": {},
   "outputs": [
    {
     "data": {
      "text/plain": [
       "symbol    702\n",
       "open        0\n",
       "close       0\n",
       "high        0\n",
       "low         0\n",
       "volume      0\n",
       "dtype: int64"
      ]
     },
     "execution_count": 196,
     "metadata": {},
     "output_type": "execute_result"
    }
   ],
   "source": [
    "conc_btc.isna().sum()"
   ]
  },
  {
   "cell_type": "code",
   "execution_count": 198,
   "metadata": {},
   "outputs": [
    {
     "name": "stdout",
     "output_type": "stream",
     "text": [
      "<class 'pandas.core.frame.DataFrame'>\n",
      "DatetimeIndex: 3495 entries, 2013-03-31 to 2022-10-30\n",
      "Data columns (total 6 columns):\n",
      " #   Column  Non-Null Count  Dtype  \n",
      "---  ------  --------------  -----  \n",
      " 0   symbol  3495 non-null   object \n",
      " 1   open    3495 non-null   float64\n",
      " 2   close   3495 non-null   float64\n",
      " 3   high    3495 non-null   float64\n",
      " 4   low     3495 non-null   float64\n",
      " 5   volume  3495 non-null   float64\n",
      "dtypes: float64(5), object(1)\n",
      "memory usage: 191.1+ KB\n"
     ]
    }
   ],
   "source": [
    "conc_btc.info()"
   ]
  },
  {
   "cell_type": "code",
   "execution_count": 192,
   "metadata": {},
   "outputs": [],
   "source": [
    "conc_btc.drop('adj close', axis=1, inplace=True)"
   ]
  },
  {
   "cell_type": "code",
   "execution_count": 197,
   "metadata": {},
   "outputs": [],
   "source": [
    "conc_btc['symbol'].fillna(\"btcusd\",inplace=True)"
   ]
  },
  {
   "cell_type": "code",
   "execution_count": 194,
   "metadata": {},
   "outputs": [
    {
     "data": {
      "text/plain": [
       "[<matplotlib.lines.Line2D at 0x1b0aacd1040>]"
      ]
     },
     "execution_count": 194,
     "metadata": {},
     "output_type": "execute_result"
    },
    {
     "data": {
      "image/png": "[encoded data removed]",
      "text/plain": [
       "<Figure size 640x480 with 1 Axes>"
      ]
     },
     "metadata": {},
     "output_type": "display_data"
    }
   ],
   "source": [
    "plt.plot(conc_btc.index, conc_btc['volume'])"
   ]
  },
  {
   "cell_type": "code",
   "execution_count": 195,
   "metadata": {},
   "outputs": [
    {
     "data": {
      "text/plain": [
       "[<matplotlib.lines.Line2D at 0x1b0a9bf27f0>]"
      ]
     },
     "execution_count": 195,
     "metadata": {},
     "output_type": "execute_result"
    },
    {
     "data": {
      "image/png": "[encoded data removed]",
      "text/plain": [
       "<Figure size 640x480 with 1 Axes>"
      ]
     },
     "metadata": {},
     "output_type": "display_data"
    }
   ],
   "source": [
    "plt.plot(conc_btc.index, conc_btc['close'])"
   ]
  },
  {
   "cell_type": "code",
   "execution_count": null,
   "metadata": {},
   "outputs": [],
   "source": []
  },
  {
   "cell_type": "code",
   "execution_count": null,
   "metadata": {},
   "outputs": [],
   "source": []
  }
 ],
 "metadata": {
  "anaconda-cloud": {},
  "kernelspec": {
   "display_name": "Python 3 (ipykernel)",
   "language": "python",
   "name": "python3"
  },
  "language_info": {
   "codemirror_mode": {
    "name": "ipython",
    "version": 3
   },
   "file_extension": ".py",
   "mimetype": "text/x-python",
   "name": "python",
   "nbconvert_exporter": "python",
   "pygments_lexer": "ipython3",
   "version": "3.9.13"
  }
 },
 "nbformat": 4,
 "nbformat_minor": 2
}
