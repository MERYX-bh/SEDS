{
 "cells": [
  {
   "cell_type": "markdown",
   "metadata": {},
   "source": [
    "<figure>\n",
    "  <IMG src=\"figures/logo-esi-sba.png\" WIDTH=300 height=\"100\" ALIGN=\"right\">\n",
    "</figure>\n",
    "\n",
    "# 2nd Exam in Software Engineering For Data Science\n",
    "# 2022-2023\n",
    "## Date: 26th of January, 2023\n",
    "## Exam Duration: 2h\n",
    "## All documents are authorized\n",
    "*By Dr. Belkacem KHALDI (b.khaldi@esi-sba.dz)*"
   ]
  },
  {
   "cell_type": "markdown",
   "metadata": {
    "slideshow": {
     "slide_type": "slide"
    }
   },
   "source": [
    "## Building a RESTFUL FastAPIs for Oil & Gaz Daily Production\n",
    "\n",
    "\n",
    "You are working as an API Developper Specialist at the IT Dept. of Sonatrach Company in Hassi Messoud, Ouargla. The Department wants to develop and test a number of APIs to be used later for a full advanced Front-end mob/web application. The APIs to be developped are related to the company core activities, which includes, in particular, Oil and Gaz Daily Production.\n",
    "\n",
    "The team you are working with is multidisciplinary, meanning it includes database engineers, web developers, and API developers. The database engineers have given you the database model depicted in the figure below:\n",
    "\n",
    "<figure>\n",
    "  <IMG src=\"figures/diagram.png\"  ALIGN=\"center\">\n",
    "</figure>\n",
    "\n",
    "Where:\n",
    "\n",
    "1. The `wells` table reprsents the different wells (\"`Puits`\" in French) available in Hassi Messoud Sub-Fields. A sample of data rows of this table is shown in the following Figure:\n",
    "<figure>\n",
    "  <IMG src=\"figures/well.png\"  ALIGN=\"center\">\n",
    "</figure>\n",
    "\n",
    "2. The `materials` table reprsents the different materials produced in Hassi Messoud Field. A sample of data rows of this table is shown in the following Figure:\n",
    "<figure>\n",
    "  <IMG src=\"figures/material.png\"  ALIGN=\"center\">\n",
    "</figure>\n",
    "\n",
    "3. The `daily_productions` table reprsents the wells daily production by material produced in Hassi Messoud Field. A sample of data rows of this table is shown in the following Figure:\n",
    "<figure>\n",
    "  <IMG src=\"figures/daily_production.png\"  ALIGN=\"center\">\n",
    "</figure>\n",
    "\n",
    "#### Note that:\n",
    "* The `id` attribute in each table is the table primary key and is `autoincrement`.\n",
    "* All tables attributes are not nullable.\n",
    "* The `name` attribute in both the `wells` and `materials` tables is `unique`.\n",
    "* In the `daily_productions` table, there is a composite unique constraint composed of  (`production_date`, `well_id`, `material_id`). \n",
    "\n",
    "  To set such a composite unike key use: `__table_args__ = (UniqueConstraint(\"<attribut1>\", \"<attribut2>\", ..., <attributn> , name=\"<name_of_your_constraint>\"),)` \n",
    "  Here is below an example of setting a composite unique key named `uk_key` and composed of two attributes in table `sometable`:\n",
    "\n",
    "```python\n",
    "from sqlalchemy import UniqueConstraint\n",
    "\n",
    "class MyClass(Base):\n",
    "    __tablename__ = \"sometable\"\n",
    "    attribute_1 =  Column(String, nullable=False)\n",
    "    attribute_2 = Column(String, nullable=False)\n",
    "    __table_args__ = (\n",
    "           UniqueConstraint(\"attribute_1\", \"attribute_2\" , name=\"uk_key\"),\n",
    "                     )\n",
    "```      \n",
    "\n",
    "* The `production_date` attribute in table `daily_productions` is of type `date` and you may use the python `datetime.date` to define the attribute.\n",
    "For a default date value setting you may opt for `Date()` function rather than `DateTime(timezone=True)`and the `func.current_date()` function  instead of the `func.now()` one.\n",
    "* The only accpeted values for the attribute `field` in table `wells` are: `CENTER`, `NORTH`, or `SOUTH`. \n",
    "* The only accpeted values for the attribute `uom` in table `materials` are: `M3` or `Tonne`.\n",
    "* An HTTPException error with `status_code=400`  have to be raised if the  value entred for `field` or `uom` is violated. \n",
    "\n",
    "\n",
    "\n",
    "The web developper team tasked to develop the front-end mobile/Web appliation is requesting from the API developers to provide them with the following APIs:\n",
    "\n",
    "| User Request | App routes | Description |\n",
    "| --- | --- | --- |\n",
    "| GET | /wells | Get all wells |\n",
    "|  | /wells/{id} | Get a well with a given id |\n",
    "|  | /materials | Get all materials |\n",
    "|  | /materials/{name} | Get a Material with a given name |\n",
    "|  | /productions/wells/{well_id} | Get  all the daily productions of a given well id |\n",
    "|  | /productions/date/{prod_date} | Get  all the daily productions at a  given date |\n",
    "|  |  |  |\n",
    "| POST | /wells/new | Create a new well |\n",
    "|  | /materials/new | Create a new material |\n",
    "|  | /productions/new/{well_id}/{material_id} | Create a new production for a given well id and a given material id |\n",
    "|  |  |  |\n",
    "| DELETE | /productions/delete/{material_name}/{well_id}/{prod_date} | Delete the daily production of a given material id for a given well id at a given date |\n",
    "|  |  |  |\n",
    "| PUT | /wells/update/{id} | Update a well with a given id |\n",
    "\n",
    "\n",
    "\n",
    "\n",
    "### Tasks to be done:\n",
    "Following the overall diagram of Creating a FastAPI Backend App (See Figure below)\n",
    "\n",
    "![image.png](figures/ORM.png)\n",
    "\n",
    "1. Create the required structure folder of your FastApi project.\n",
    "2. Develope the different Restful APIs requested from the web developper team. Use an `Sqlite` database for testing your APIs and the `FastAPI` python framework to build the APIs.\n",
    "    *  All your Restful FastAPIs have to be tesed using the FastAPI Interactive API docs. \n",
    "4. Test the GET `/wells` FastAPI  by developping your own html web page using the `fastapi.templating` module seen in Lecture 09.\n",
    "\n"
   ]
  },
  {
   "cell_type": "markdown",
   "metadata": {},
   "source": [
    "# Final Remarks:\n",
    "1. Zip the entire folder of your FastAPI project in one file and name it as your esi-sba  email \n",
    "2. Send the compressed file to b.khaldi@esi-sba.dz\n",
    "\n",
    "## Good Luck !!"
   ]
  }
 ],
 "metadata": {
  "anaconda-cloud": {},
  "kernelspec": {
   "display_name": "Python 3 (ipykernel)",
   "language": "python",
   "name": "python3"
  },
  "language_info": {
   "codemirror_mode": {
    "name": "ipython",
    "version": 3
   },
   "file_extension": ".py",
   "mimetype": "text/x-python",
   "name": "python",
   "nbconvert_exporter": "python",
   "pygments_lexer": "ipython3",
   "version": "3.9.13"
  },
  "vscode": {
   "interpreter": {
    "hash": "a077222d77dfe082b8f1dd562ad70e458ac2ab76993a0b248ab0476e32e9e8dd"
   }
  }
 },
 "nbformat": 4,
 "nbformat_minor": 2
}
