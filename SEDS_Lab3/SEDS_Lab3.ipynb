{
 "cells": [
  {
   "cell_type": "markdown",
   "metadata": {},
   "source": [
    "<figure>\n",
    "  <IMG src=\"figures/logo-esi-sba.png\" WIDTH=300 height=\"100\" ALIGN=\"right\">\n",
    "</figure>\n",
    "\n",
    "# Practical Trainining Series on Software Engineering For Data Science  \n",
    "*By Dr. Belkacem KHALDI (b.khaldi@esi-sba.dz)*"
   ]
  },
  {
   "cell_type": "markdown",
   "metadata": {
    "slideshow": {
     "slide_type": "slide"
    }
   },
   "source": [
    "# Notebook 3: Advanced Concepts for Python Software Engineering: Modularity, Readability, and Refactoring\n",
    "\n",
    "The purpose of this [Jupyter Notebook] is to getting you familairized with advanced concepts for Python Software Engineering such as Modularity, Readability, and RefactoringPython. It provides a set of practical Training challenges that allow grasping the different concepts presented in the 3th lecture."
   ]
  },
  {
   "cell_type": "markdown",
   "metadata": {},
   "source": [
    "# Part 1: Modularity\n",
    "## 1. OOP Fundamentals\n",
    "\n",
    "#### About Classes and Objects\n",
    "Classes are a way of combining information and behavior. For example, let's consider what you'd need to do if you were creating a rocket ship in a game, or in a physics simulation. One of the first things you'd want to track are the $x$ and $y$ coordinates of the rocket. Here is what a simple rocket ship class looks like in code:\n",
    "\n",
    "```python\n",
    "class Rocket():\n",
    "    # Rocket simulates a rocket ship for a game,\n",
    "    #  or a physics simulation.\n",
    "    \n",
    "    def __init__(self):\n",
    "        # Each rocket has an (x,y) position.\n",
    "        self.x = 0\n",
    "        self.y = 0\n",
    "        \n",
    "    def move_up(self, x_increment=0, y_increment=1):\n",
    "        # Move the rocket according to the paremeters given.\n",
    "        #  Default behavior is to move the rocket up one unit.\n",
    "        self.x += x_increment\n",
    "        self.y += y_increment\n",
    "```\n",
    "\n",
    "The `__init__()` method in the Rocket Class is a special function calles constructor that lets you make sure that all relevant attributes are set to their proper values when an object is created from the class, before the object is used. In this case, The `__init__()` method initializes the $x$ and $y$ values of the Rocket to 0.\n",
    "The Rocket class stores two pieces of information and has a core behavior of a rocket: moving up. But this code has not actually created a rocket yet. Here is how you actually make a rocket:\n",
    "\n",
    "\n",
    "```python\n",
    "my_rocket = Rocket()\n",
    "print(my_rocket)\n",
    "```\n",
    "```<__main__.Rocket object at 0x7f6f50c39190>```\n",
    "\n",
    "You can see that the variable `my_rocket` is a Rocket object from the `__main__` program file, which is stored at a particular location in memory.\n",
    "\n",
    "We need a better representative meaning when printing an object and to do so, you should re-implement `__str__` for string representation  and `__rep__` for Reproducible  representation as follows:\n",
    "\n",
    "```python\n",
    "class Rocket():\n",
    "    # Rocket simulates a rocket ship for a game,\n",
    "    #  or a physics simulation.\n",
    "    \n",
    "    #....\n",
    "    \n",
    "    def __str__(self):\n",
    "        return f\"A Rocket positioned at ({self.x},{self.y})\"\n",
    "    \n",
    "    def __repr__(self):\n",
    "        return f\"Rocket({self.x},{self.y})\"\n",
    "```\n",
    "\n",
    "To test the representation functions, just do this:\n",
    "```python\n",
    "print(my_rocket)\n",
    "my_rocket\n",
    "```\n",
    "\n",
    "Once you have a class, you can define an object and use its methods. Here is how you might define a rocket and have it start to move up:\n",
    "\n",
    "```python\n",
    "print(\"Rocket altitude:\", my_rocket.y)\n",
    "\n",
    "my_rocket.move_up()\n",
    "print(\"Rocket altitude:\", my_rocket.y)\n",
    "\n",
    "my_rocket.move_up()\n",
    "print(\"Rocket altitude:\", my_rocket.y)\n",
    "```"
   ]
  },
  {
   "cell_type": "code",
   "execution_count": 22,
   "metadata": {},
   "outputs": [
    {
     "name": "stdout",
     "output_type": "stream",
     "text": [
      "A Rocket positioned at (0,0)\n"
     ]
    }
   ],
   "source": [
    "#Test the codes above\n",
    "class Rocket():\n",
    "    # Rocket simulates a rocket ship for a game,\n",
    "    #  or a physics simulation.\n",
    "\n",
    "    def __init__(self,x=0,y=0):\n",
    "        # Each rocket has an (x,y) position.\n",
    "        self.x = x\n",
    "        self.y = y\n",
    "\n",
    "    def move_up(self, x_increment=0, y_increment=1):\n",
    "        # Move the rocket according to the paremeters given.\n",
    "        #  Default behavior is to move the rocket up one unit.\n",
    "        self.x += x_increment\n",
    "        self.y += y_increment\n",
    "    def __str__(self):\n",
    "        return f\"A Rocket positioned at ({self.x},{self.y})\"\n",
    "    def __repr__(self):\n",
    "        return f\"Rocket({self.x},{self.y})\"\n",
    "my_rocket = Rocket()\n",
    "print(my_rocket)"
   ]
  },
  {
   "cell_type": "code",
   "execution_count": 9,
   "metadata": {},
   "outputs": [
    {
     "name": "stdout",
     "output_type": "stream",
     "text": [
      "Rocket altitude: 0\n",
      "Rocket altitude: 1\n",
      "Rocket altitude: 2\n"
     ]
    }
   ],
   "source": [
    "print(\"Rocket altitude:\", my_rocket.y)\n",
    "\n",
    "my_rocket.move_up()\n",
    "print(\"Rocket altitude:\", my_rocket.y)\n",
    "\n",
    "my_rocket.move_up()\n",
    "print(\"Rocket altitude:\", my_rocket.y)"
   ]
  },
  {
   "cell_type": "markdown",
   "metadata": {},
   "source": [
    "### Challenge 1\n",
    "#### 1.  Object Equality Method\n",
    "1. Implement Object Equality Method in the Rocket Class by re-implementing `__eq__()` method.\n",
    "\n",
    "```python\n",
    " def __eq__(----):\n",
    "        \n",
    "        #return .....\n",
    "```\n",
    "\n",
    "#### 2. Adding a new method to the Rocket Class\n",
    "We want to make sure that a rocket does not get too close to any other rockets. To do so, we want to add a method that will report the distance from one rocket to any other rocket.\n",
    "\n",
    "```python\n",
    " def get_distance(...):\n",
    "        # Calculates the distance from this rocket to another rocket,\n",
    "        #  and returns that value.\n",
    "        #distance = .......\n",
    "        #return distance\n",
    "```    \n",
    "\n",
    "1. Modify the Rocket class by implementing the `get_distance()` method.\n",
    "2. Test the new implemented method"
   ]
  },
  {
   "cell_type": "code",
   "execution_count": 16,
   "metadata": {},
   "outputs": [],
   "source": [
    "#Your Solution here\n",
    "import math\n",
    "def __eq__(self,other):\n",
    "    return self.y == other.y and self.x == other.x    \n",
    "def get_distance(self,other):\n",
    "    return math.sqrt(pow((self.x-other.x),2)+pow((self.y-other.y),2))\n",
    "        "
   ]
  },
  {
   "cell_type": "markdown",
   "metadata": {},
   "source": [
    "#### About Inheritance\n",
    "One of the most important goals of the object-oriented approach to programming is the creation of stable, reliable, reusable code. If you had to create a new class for every kind of object you wanted to model, you would hardly have any reusable code.\n",
    "\n",
    "In Python and any other language that supports OOP, one class can inherit from another class. This means you can base a new class on an existing class; the new class inherits all of the attributes and behavior of the class it is based on.\n",
    "\n",
    "A new class can override any undesirable attributes or behavior of the class it inherits from, and it can add any new attributes or behavior that are appropriate. The original class is called the parent class, and the new class is a child of the parent class. The parent class is also called a superclass, and the child class is also called a subclass.\n",
    "\n",
    "We want now to model a space shuttle which is a special kind of rocket. The shuttle class inherit all of the attributes and behavior of a Rocket, and then add a few appropriate attributes and behavior for a Shuttle.\n",
    "\n",
    "Here is what the Shuttle class looks like:\n",
    "\n",
    "```python\n",
    "class Shuttle(Rocket):\n",
    "    # Shuttle simulates a space shuttle, which is really\n",
    "    #  just a reusable rocket.\n",
    "    \n",
    "    def __init__(self, x=0, y=0, flights_completed=0):\n",
    "        super().__init__(x, y)\n",
    "        self.flights_completed = flights_completed\n",
    "```\n",
    "\n",
    "The `__init__()` function of the new class needs to call the `__init__()` function of the parent class. The `__init__()` function of the new class needs to accept all of the parameters required to build an object from the parent class, and these parameters need to be passed to the __init__() function of the parent class. The `super().__init__()` function takes care of that.\n",
    "\n",
    "### Challenge 2\n",
    "1. Test the new class\n",
    "2. Create 10  Rockets and 10 shuttles with random positions and random flights_completed. You may use the `randint` built-in function from the `random` module.\n",
    "3. Print the position with the distances among all shuttles and Rockets."
   ]
  },
  {
   "cell_type": "code",
   "execution_count": 25,
   "metadata": {},
   "outputs": [
    {
     "name": "stdout",
     "output_type": "stream",
     "text": [
      "A Rocket positioned at (18,15)\n",
      "A Rocket positioned at (14,7)\n",
      "A Rocket positioned at (15,18)\n",
      "A Rocket positioned at (16,10)\n",
      "A Rocket positioned at (5,1)\n",
      "A Rocket positioned at (5,4)\n",
      "A Rocket positioned at (16,14)\n",
      "A Rocket positioned at (15,14)\n",
      "A Rocket positioned at (17,18)\n",
      "A Rocket positioned at (18,15)\n"
     ]
    }
   ],
   "source": [
    "#Your Solution\n",
    "import random\n",
    "class Shuttle(Rocket):\n",
    "    # Shuttle simulates a space shuttle, which is really\n",
    "    #  just a reusable rocket.\n",
    "\n",
    "    def __init__(self, x=0, y=0, flights_completed=0):\n",
    "        super().__init__(x, y)\n",
    "        self.flights_completed = flights_completed\n",
    "for i in range(0,10):\n",
    "    print(Shuttle(random.randint(1, 20),random.randint(1, 20), random.randint(1, 10)))"
   ]
  },
  {
   "cell_type": "markdown",
   "metadata": {
    "slideshow": {
     "slide_type": "slide"
    }
   },
   "source": [
    "\n",
    "## 2. Modules\n",
    "### Pre-built Python Modules\n",
    "Most of the functionality in Python is provided by modules. The Python Standard Library is a large collection of modules that provides cross-platform implementations of common facilities such as access to the operating system, file I/O, string management, network communication, and much more.\n",
    "\n",
    "#### References\n",
    "* The Python Language Reference: http://docs.python.org/2/reference/index.html\n",
    "* The Python Standard Library: http://docs.python.org/2/library/\n",
    "\n",
    "To use a module in a Python program it first has to be imported. A module can be imported using the import statement. For example, to import the module math, which contains many standard mathematical functions, we can do:\n",
    "\n",
    "```python\n",
    "import math\n",
    "```\n",
    "\n",
    "This includes the whole module and makes it available for use later in the program. For example, we can do:\n",
    "\n",
    "```python\n",
    "import math\n",
    "\n",
    "x = math.cos(2 * math.pi)\n",
    "print(x)\n",
    "```\n",
    "Alternatively, we can chose to import all symbols (functions and variables) in a module to the current namespace (so that we don't need to use the prefix \"math.\" every time we use something from the math module:\n",
    "\n",
    "```python\n",
    "from math import *\n",
    "\n",
    "x = cos(2 * pi)\n",
    "print(x)\n",
    "```\n",
    "This pattern can be very convenient, but in large programs that include many modules it is often a good idea to keep the symbols from each module in their own namespaces, by using the import math pattern. This would elminate potentially confusing problems with name space collisions.\n",
    "\n",
    "As a third alternative, we can chose to import only a few selected symbols from a module by explicitly listing which ones we want to import instead of using the wildcard character *:\n",
    "\n",
    "```python\n",
    "from math import cos, pi\n",
    "\n",
    "x = cos(2 * pi)\n",
    "print(x)\n",
    "```\n",
    "\n",
    "Looking at what a module contains, and its documentation\n",
    "Once a module is imported, we can list the symbols it provides using the dir function:\n",
    "\n",
    "```python\n",
    "import math\n",
    "print(dir(math))\n",
    "```\n",
    "\n",
    "```python\n",
    "['__doc__', '__file__', '__name__', '__package__', 'acos', 'acosh', 'asin', 'asinh', 'atan', 'atan2', 'atanh', 'ceil', 'copysign', 'cos', 'cosh', 'degrees', 'e', 'erf', 'erfc', 'exp', 'expm1', 'fabs', 'factorial', 'floor', 'fmod', 'frexp', 'fsum', 'gamma', 'hypot', 'isinf', 'isnan', 'ldexp', 'lgamma', 'log', 'log10', 'log1p', 'modf', 'pi', 'pow', 'radians', 'sin', 'sinh', 'sqrt', 'tan', 'tanh', 'trunc']\n",
    "```\n",
    "\n",
    "And using the function help we can get a description of each function (almost .. not all functions have docstrings, as they are technically called, but the vast majority of functions are documented this way).\n",
    "\n",
    "```python\n",
    "help(math.log)\n",
    "```\n",
    "\n",
    "```python\n",
    "Help on built-in function log in module math:\n",
    "\n",
    "log(...)\n",
    "    log(x[, base])\n",
    "    \n",
    "    Return the logarithm of x to the given base.\n",
    "    If the base not specified, returns the natural logarithm (base e) of x.\n",
    "```\n",
    "\n"
   ]
  },
  {
   "cell_type": "markdown",
   "metadata": {},
   "source": [
    "### Challenge 03:\n",
    "\n",
    "Given a Circle of raduis $r$ and by using the math module, write a peace of code that contains two functions  returning the following results:\n",
    "1. The area of a circle: $area=\\pi r^2$\n",
    "2. The circumference of a circle: $circum=2 \\pi r$\n",
    "\n",
    "```python\n",
    "def get_area(r):\n",
    "    ......\n",
    "```\n",
    "\n",
    "```python\n",
    "def get_circumference(r):\n",
    "    ......\n",
    "```\n",
    "\n",
    "* Thest your code by inputtext"
   ]
  },
  {
   "cell_type": "code",
   "execution_count": 27,
   "metadata": {},
   "outputs": [],
   "source": [
    "#your solution\n",
    "from math import *\n",
    "def get_area(r):\n",
    "    return pow(r,2)*pi\n",
    "def get_circumference(r):\n",
    "    return 2*pi*r"
   ]
  },
  {
   "cell_type": "markdown",
   "metadata": {},
   "source": [
    "### Built Your own Module\n",
    "Save the following code in a `rocket.py` file and put the file in the same parent folder of this jupyteer notebook.\n",
    "\n",
    "```python\n",
    "# Save as rocket.py\n",
    "from math import sqrt\n",
    "\n",
    "class Rocket():\n",
    "    # Rocket simulates a rocket ship for a game,\n",
    "    #  or a physics simulation.\n",
    "    \n",
    "    def __init__(self, x=0, y=0):\n",
    "        # Each rocket has an (x,y) position.\n",
    "        self.x = x\n",
    "        self.y = y\n",
    "        \n",
    "    def move_rocket(self, x_increment=0, y_increment=1):\n",
    "        # Move the rocket according to the paremeters given.\n",
    "        #  Default behavior is to move the rocket up one unit.\n",
    "        self.x += x_increment\n",
    "        self.y += y_increment\n",
    "        \n",
    "    def get_distance(self, other_rocket):\n",
    "        # Calculates the distance from this rocket to another rocket,\n",
    "        #  and returns that value.\n",
    "        distance = sqrt((self.x-other_rocket.x)**2+(self.y-other_rocket.y)**2)\n",
    "        return distance\n",
    "    \n",
    "    def __str__(self):\n",
    "        return f\"A Rocket positioned at ({self.x},{self.y})\"\n",
    "\n",
    "    def __repr__(self):\n",
    "        return f\"Rocket({self.x},{self.y})\"\n",
    "    \n",
    "class Shuttle(Rocket):\n",
    "    # Shuttle simulates a space shuttle, which is really\n",
    "    #  just a reusable rocket.\n",
    "    \n",
    "    def __init__(self, x=0, y=0, flights_completed=0):\n",
    "        super().__init__(x, y)\n",
    "        self.flights_completed = flights_completed\n",
    "```\n",
    "\n",
    "The `rocket` file is now a module that contains two classes and we can import it as follows:\n",
    "1. import the entire module \n",
    "```python\n",
    "import rocket\n",
    "rocket_0 = rocket.Rocket()\n",
    "rocket_0\n",
    "```\n",
    "2. import specific class or method\n",
    "```python\n",
    "from rocket import Shuttle\n",
    "shuttle_0 = Shuttle()\n",
    "shuttle_0\n",
    "```\n",
    "3. import using  aliasing\n",
    "```python\n",
    "import rocket as r\n",
    "rocket_0 = r.Rocket()\n",
    "rocket_0\n",
    "```\n",
    "\n",
    "### Challenge 4\n",
    "1. Test the module.\n",
    "2. Update the module by adding your Object Equality Method done in challenge 01.\n",
    "2. We want now to create a new class called circleRocket that inherites from a rocket class. We assume that the new class models a rocket that has a form of a circle with raduis $r$. The new class includes the two methods that you have implemented in Challenge 03:  `get_area()` and `get_circumference()`. Create the new class in the `rocket.py` file and test it.\n"
   ]
  },
  {
   "cell_type": "code",
   "execution_count": 29,
   "metadata": {},
   "outputs": [
    {
     "data": {
      "text/plain": [
       "Rocket(0,0)"
      ]
     },
     "execution_count": 29,
     "metadata": {},
     "output_type": "execute_result"
    }
   ],
   "source": [
    "#Your Solution\n",
    "import rocket\n",
    "rocket_0 = rocket.Rocket()\n",
    "rocket_0"
   ]
  },
  {
   "cell_type": "code",
   "execution_count": 30,
   "metadata": {},
   "outputs": [
    {
     "data": {
      "text/plain": [
       "Rocket(0,0)"
      ]
     },
     "execution_count": 30,
     "metadata": {},
     "output_type": "execute_result"
    }
   ],
   "source": [
    "from rocket import Shuttle\n",
    "shuttle_0 = Shuttle()\n",
    "shuttle_0"
   ]
  },
  {
   "cell_type": "code",
   "execution_count": 32,
   "metadata": {},
   "outputs": [
    {
     "data": {
      "text/plain": [
       "Rocket(1,2)"
      ]
     },
     "execution_count": 32,
     "metadata": {},
     "output_type": "execute_result"
    }
   ],
   "source": [
    "import rocket as r\n",
    "rocket_0 = r.Rocket(1,2)\n",
    "rocket_0"
   ]
  },
  {
   "cell_type": "code",
   "execution_count": null,
   "metadata": {},
   "outputs": [],
   "source": [
    "class circleRocket(Rocket):\n",
    "    # Shuttle simulates a space shuttle, which is really\n",
    "    #  just a reusable rocket.\n",
    "\n",
    "    def __init__(self, x=0, y=0, r=0):\n",
    "        super().__init__(x, y)\n",
    "        def get_area(self,r=0):\n",
    "            return pow(r,2)*pi\n",
    "        def get_circumference(self,r):\n",
    "            return 2*pi*r\n",
    "            "
   ]
  },
  {
   "cell_type": "markdown",
   "metadata": {},
   "source": [
    "## 3. Packages\n",
    "A `package` is a `module`, except it can have other modules (and indeed other packages) inside it.\n",
    "A package is a directory with a `__init__.py` file and any number of python files or other package directories. \n",
    "\n",
    "A well structured, standard layout (See Figure) for creating a package will help you build, install and distribute it.\n",
    "\n",
    "<img src=\"Figures/module-structure.png\" style=\"width: 200px; float: right\"/> \n",
    "\n",
    "We want to create a package that contains the module, `rocket`, we created previously. To do So, follow the following steps:\n",
    "\n",
    "1. Create a new folder and name it `rocket`.\n",
    "2. In the `rocket` folder:\n",
    "    *  Create a subfolder `rocket`.\n",
    "        *  Copy and past the `rocket.py` file.\n",
    "        *  Create a  `__init__.py` file.\n",
    "            * in the init file just `import rocket` and save the file.\n",
    "        \n",
    "    *  create a `LICENSE.txt` file. You may Copy and Past the MIT License Content available in https://choosealicense.com/licenses/mit/ to create a `LICENSE.txt`.\n",
    "    *  Create a `README.md` file. You may Copy and modify the `README.md` file existed in the jupyther notebook folder\n",
    "    *  Create a `setup.py` file. Use the `setup.py` file  existed in the jupyther notebook folder as a template.\n",
    "3. Build a source distribution (sdist) ⇒ a tar archive of all the files needed to build and install the package. To do So open a terminal window and navigate to your package folder. Then, lauch command: `python setup.py sdist`.\n",
    "    * To install the package simply, run `pip install dist/<file-tar-name.tar.gz>`\n",
    "4. Alternatively, you can build wheels (bdist_wheel) ⇒ a binary distribution .whl file directly installable through the pip install command. To do so tape the following command in a terminal window: `python setup.py bdist_wheel`\n",
    "    * To install the package simply, run this time `pip install dist/<file-wheel-name.whl>`\n",
    "5.  Online deployment:\n",
    "    * to upload your packgage to pypi.org you have to first register an account: https://pypi.org/account/register/.\n",
    "    * Install the twin package ==> `conda install  twine`\n",
    "    * Tape the commande `twine upload dist/*` and provide your credential to upload your package to pypi\n",
    "    * Now, you can install your package from online by simply typing: `pip install <package-name>`\n",
    "      \n",
    "    "
   ]
  },
  {
   "cell_type": "code",
   "execution_count": null,
   "metadata": {},
   "outputs": [],
   "source": []
  },
  {
   "cell_type": "code",
   "execution_count": null,
   "metadata": {},
   "outputs": [],
   "source": [
    "#Your Solution"
   ]
  },
  {
   "cell_type": "markdown",
   "metadata": {},
   "source": [
    "### Challenge 5\n",
    "\n",
    "* Follow the steps above to make your own regression model as a package.\n",
    "    * Details on implementing a Simple Linear Regression Model can be found in https://www.askpython.com/python/examples/linear-regression-from-scratch\n",
    "* Test the installation of your package offline and online.\n"
   ]
  },
  {
   "cell_type": "code",
   "execution_count": null,
   "metadata": {},
   "outputs": [],
   "source": [
    "#Your Solution"
   ]
  },
  {
   "cell_type": "markdown",
   "metadata": {},
   "source": [
    "### Structiring you Data Science Project Package with Cookiecutter\n",
    "\n",
    "Cookiecutter is a command-line utility that creates projects from cookiecutters (project templates), e.g. creating a Python package project from a Python package project template.\n",
    "\n",
    "* Documentation: https://cookiecutter.readthedocs.io\n",
    "* GitHub: https://github.com/cookiecutter/cookiecutter\n",
    "* PyPI: https://pypi.org/project/cookiecutter/\n",
    "* Free and open source software: BSD license\n",
    "\n",
    "\n",
    "1. To install cookiecutter tape the commande `conda install cookiecutter` in a terminal window. It is recommended to use a seperate environment.\n",
    "2.  Create a package directory\n",
    "3.  Download the code zip directory from https://github.com/audreyfeldroy/cookiecutter-pypackage\n",
    "4.  Tape the following command in a terminal window: `cookiecutter cookiecutter-pypackage-master.zip`. You will be asked to enter values for few parameters. Just accept them by default.\n",
    "5.  Verify the content of your folder\n"
   ]
  },
  {
   "cell_type": "code",
   "execution_count": null,
   "metadata": {},
   "outputs": [],
   "source": []
  }
 ],
 "metadata": {
  "anaconda-cloud": {},
  "kernelspec": {
   "display_name": "Python 3 (ipykernel)",
   "language": "python",
   "name": "python3"
  },
  "language_info": {
   "codemirror_mode": {
    "name": "ipython",
    "version": 3
   },
   "file_extension": ".py",
   "mimetype": "text/x-python",
   "name": "python",
   "nbconvert_exporter": "python",
   "pygments_lexer": "ipython3",
   "version": "3.10.8"
  }
 },
 "nbformat": 4,
 "nbformat_minor": 2
}
